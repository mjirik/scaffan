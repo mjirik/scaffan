{
 "cells": [
  {
   "cell_type": "markdown",
   "metadata": {},
   "source": [
    "# CNN"
   ]
  },
  {
   "cell_type": "code",
   "execution_count": 88,
   "metadata": {},
   "outputs": [
    {
     "name": "stdout",
     "output_type": "stream",
     "text": [
      "Populating the interactive namespace from numpy and matplotlib\n"
     ]
    }
   ],
   "source": [
    "%pylab inline\n",
    "import keras\n",
    "from keras.utils import to_categorical\n",
    "from keras.models import Sequential\n",
    "from keras.layers import Dense, Conv2D, Flatten\n",
    "import h5py\n",
    "import numpy as np\n",
    "\n",
    "tile_size = 28"
   ]
  },
  {
   "cell_type": "markdown",
   "metadata": {},
   "source": [
    "## Import data"
   ]
  },
  {
   "cell_type": "code",
   "execution_count": 68,
   "metadata": {},
   "outputs": [],
   "source": [
    "h5py\n",
    "hdf5_path = \"scaffan_dataset.hdf5\"\n",
    "# open a hdf5 file and create earrays\n",
    "hdf5_file = h5py.File(hdf5_path, mode='r')\n",
    "X = hdf5_file[\"X\"][()]\n",
    "y = hdf5_file[\"y\"][()]"
   ]
  },
  {
   "cell_type": "code",
   "execution_count": 25,
   "metadata": {},
   "outputs": [
    {
     "name": "stdout",
     "output_type": "stream",
     "text": [
      "X: float64 (1882, 28, 28, 1), min/max: (0.2395357780297619, 0.9104676371894007)\n",
      "y: int32 (1882,), unique: [1 2]\n"
     ]
    }
   ],
   "source": [
    "print(f\"X: {X.dtype} {X.shape}, min/max: {(np.min(X), np.max(X))}\")\n",
    "print(f\"y: {y.dtype} {y.shape}, unique: {np.unique(y)}\")"
   ]
  },
  {
   "cell_type": "code",
   "execution_count": 26,
   "metadata": {},
   "outputs": [],
   "source": [
    "y = to_categorical(y)\n",
    "import sklearn.model_selection\n",
    "# sklearn.train_test_split\n",
    "X_train, X_test, y_train, y_test = sklearn.model_selection.train_test_split(X, y, test_size=0.33)"
   ]
  },
  {
   "cell_type": "code",
   "execution_count": 36,
   "metadata": {},
   "outputs": [
    {
     "data": {
      "text/plain": [
       "(array([0., 1.], dtype=float32), array([1244,  622], dtype=int64))"
      ]
     },
     "metadata": {},
     "output_type": "display_data"
    },
    {
     "data": {
      "text/plain": [
       "(array([0., 1.], dtype=float32), array([2520, 1260], dtype=int64))"
      ]
     },
     "metadata": {},
     "output_type": "display_data"
    }
   ],
   "source": [
    "display(np.unique(y_test, return_counts=True))\n",
    "display(np.unique(y_train, return_counts=True))"
   ]
  },
  {
   "cell_type": "markdown",
   "metadata": {},
   "source": [
    "## Model"
   ]
  },
  {
   "cell_type": "code",
   "execution_count": 40,
   "metadata": {},
   "outputs": [],
   "source": [
    "\n",
    "#create model\n",
    "model = Sequential()\n",
    "#add model layersfrom keras.models import Sequential\n",
    "model.add(Conv2D(64, kernel_size=3, activation='relu', input_shape=(28,28,1)))\n",
    "model.add(Conv2D(32, kernel_size=3, activation='relu'))\n",
    "model.add(Flatten())\n",
    "model.add(Dense(3, activation='softmax'))\n",
    "# model.add(Dense(10, activation='softmax'))"
   ]
  },
  {
   "cell_type": "code",
   "execution_count": 41,
   "metadata": {},
   "outputs": [],
   "source": [
    "#compile model using accuracy to measure model performance\n",
    "model.compile(optimizer='adam', loss='categorical_crossentropy', metrics=['accuracy'])"
   ]
  },
  {
   "cell_type": "code",
   "execution_count": 42,
   "metadata": {},
   "outputs": [
    {
     "name": "stdout",
     "output_type": "stream",
     "text": [
      "Train on 1260 samples, validate on 622 samples\n",
      "Epoch 1/3\n",
      "  96/1260 [=>............................] - ETA: 26s - loss: 1.1320 - acc: 0.37 - ETA: 22s - loss: 0.9834 - acc: 0.4896"
     ]
    },
    {
     "name": "stderr",
     "output_type": "stream",
     "text": [
      "C:\\Users\\Jirik\\Miniconda3\\envs\\scaffan\\lib\\site-packages\\keras\\callbacks.py:122: UserWarning: Method on_batch_end() is slow compared to the batch update (0.241335). Check your callbacks.\n",
      "  % delta_t_median)\n",
      "C:\\Users\\Jirik\\Miniconda3\\envs\\scaffan\\lib\\site-packages\\keras\\callbacks.py:122: UserWarning: Method on_batch_end() is slow compared to the batch update (0.271239). Check your callbacks.\n",
      "  % delta_t_median)\n"
     ]
    },
    {
     "name": "stdout",
     "output_type": "stream",
     "text": [
      " 288/1260 [=====>........................] - ETA: 13s - loss: 0.7685 - acc: 0.6181"
     ]
    },
    {
     "name": "stderr",
     "output_type": "stream",
     "text": [
      "C:\\Users\\Jirik\\Miniconda3\\envs\\scaffan\\lib\\site-packages\\keras\\callbacks.py:122: UserWarning: Method on_batch_end() is slow compared to the batch update (0.211432). Check your callbacks.\n",
      "  % delta_t_median)\n",
      "C:\\Users\\Jirik\\Miniconda3\\envs\\scaffan\\lib\\site-packages\\keras\\callbacks.py:122: UserWarning: Method on_batch_end() is slow compared to the batch update (0.209436). Check your callbacks.\n",
      "  % delta_t_median)\n"
     ]
    },
    {
     "name": "stdout",
     "output_type": "stream",
     "text": [
      " 352/1260 [=======>......................] - ETA: 12s - loss: 0.7352 - acc: 0.6420"
     ]
    },
    {
     "name": "stderr",
     "output_type": "stream",
     "text": [
      "C:\\Users\\Jirik\\Miniconda3\\envs\\scaffan\\lib\\site-packages\\keras\\callbacks.py:122: UserWarning: Method on_batch_end() is slow compared to the batch update (0.210433). Check your callbacks.\n",
      "  % delta_t_median)\n",
      "C:\\Users\\Jirik\\Miniconda3\\envs\\scaffan\\lib\\site-packages\\keras\\callbacks.py:122: UserWarning: Method on_batch_end() is slow compared to the batch update (0.210933). Check your callbacks.\n",
      "  % delta_t_median)\n"
     ]
    },
    {
     "name": "stdout",
     "output_type": "stream",
     "text": [
      " 416/1260 [========>.....................] - ETA: 11s - loss: 0.7206 - acc: 0.6514"
     ]
    },
    {
     "name": "stderr",
     "output_type": "stream",
     "text": [
      "C:\\Users\\Jirik\\Miniconda3\\envs\\scaffan\\lib\\site-packages\\keras\\callbacks.py:122: UserWarning: Method on_batch_end() is slow compared to the batch update (0.216419). Check your callbacks.\n",
      "  % delta_t_median)\n"
     ]
    },
    {
     "name": "stdout",
     "output_type": "stream",
     "text": [
      "\b\b\b\b\b\b\b\b\b\b\b\b\b\b\b\b\b\b\b\b\b\b\b\b\b\b\b\b\b\b\b\b\b\b\b\b\b\b\b\b\b\b\b\b\b\b\b\b\b\b\b\b\b\b\b\b\b\b\b\b\b\b\b\b\b\b\b\b\b\b\b\b\b\b\b\b\b\b\b\b\b\b\r",
      " 448/1260 [=========>....................] - ETA: 10s - loss: 0.7076 - acc: 0.6607"
     ]
    },
    {
     "name": "stderr",
     "output_type": "stream",
     "text": [
      "C:\\Users\\Jirik\\Miniconda3\\envs\\scaffan\\lib\\site-packages\\keras\\callbacks.py:122: UserWarning: Method on_batch_end() is slow compared to the batch update (0.208937). Check your callbacks.\n",
      "  % delta_t_median)\n"
     ]
    },
    {
     "name": "stdout",
     "output_type": "stream",
     "text": [
      " 512/1260 [===========>..................] - ETA: 10s - loss: 0.7009 - acc: 0.66"
     ]
    },
    {
     "name": "stderr",
     "output_type": "stream",
     "text": [
      "C:\\Users\\Jirik\\Miniconda3\\envs\\scaffan\\lib\\site-packages\\keras\\callbacks.py:122: UserWarning: Method on_batch_end() is slow compared to the batch update (0.254331). Check your callbacks.\n",
      "  % delta_t_median)\n"
     ]
    },
    {
     "name": "stdout",
     "output_type": "stream",
     "text": [
      " 608/1260 [=============>................] - ETA: 8s - loss: 0.6896 - acc: 0.6743"
     ]
    },
    {
     "name": "stderr",
     "output_type": "stream",
     "text": [
      "C:\\Users\\Jirik\\Miniconda3\\envs\\scaffan\\lib\\site-packages\\keras\\callbacks.py:122: UserWarning: Method on_batch_end() is slow compared to the batch update (0.270288). Check your callbacks.\n",
      "  % delta_t_median)\n",
      "C:\\Users\\Jirik\\Miniconda3\\envs\\scaffan\\lib\\site-packages\\keras\\callbacks.py:122: UserWarning: Method on_batch_end() is slow compared to the batch update (0.281757). Check your callbacks.\n",
      "  % delta_t_median)\n"
     ]
    },
    {
     "name": "stdout",
     "output_type": "stream",
     "text": [
      " 640/1260 [==============>...............] - ETA: 8s - loss: 0.6837 - acc: 0.6781"
     ]
    },
    {
     "name": "stderr",
     "output_type": "stream",
     "text": [
      "C:\\Users\\Jirik\\Miniconda3\\envs\\scaffan\\lib\\site-packages\\keras\\callbacks.py:122: UserWarning: Method on_batch_end() is slow compared to the batch update (0.287744). Check your callbacks.\n",
      "  % delta_t_median)\n"
     ]
    },
    {
     "name": "stdout",
     "output_type": "stream",
     "text": [
      " 736/1260 [================>.............] - ETA: 7s - loss: 0.6891 - acc: 0.6807"
     ]
    },
    {
     "name": "stderr",
     "output_type": "stream",
     "text": [
      "C:\\Users\\Jirik\\Miniconda3\\envs\\scaffan\\lib\\site-packages\\keras\\callbacks.py:122: UserWarning: Method on_batch_end() is slow compared to the batch update (0.300688). Check your callbacks.\n",
      "  % delta_t_median)\n",
      "C:\\Users\\Jirik\\Miniconda3\\envs\\scaffan\\lib\\site-packages\\keras\\callbacks.py:122: UserWarning: Method on_batch_end() is slow compared to the batch update (0.299203). Check your callbacks.\n",
      "  % delta_t_median)\n"
     ]
    },
    {
     "name": "stdout",
     "output_type": "stream",
     "text": [
      " 832/1260 [==================>...........] - ETA: 5s - loss: 0.6917 - acc: 0.6779"
     ]
    },
    {
     "name": "stderr",
     "output_type": "stream",
     "text": [
      "C:\\Users\\Jirik\\Miniconda3\\envs\\scaffan\\lib\\site-packages\\keras\\callbacks.py:122: UserWarning: Method on_batch_end() is slow compared to the batch update (0.285264). Check your callbacks.\n",
      "  % delta_t_median)\n",
      "C:\\Users\\Jirik\\Miniconda3\\envs\\scaffan\\lib\\site-packages\\keras\\callbacks.py:122: UserWarning: Method on_batch_end() is slow compared to the batch update (0.280763). Check your callbacks.\n",
      "  % delta_t_median)\n"
     ]
    },
    {
     "name": "stdout",
     "output_type": "stream",
     "text": [
      " 896/1260 [====================>.........] - ETA: 4s - loss: 0.6920 - acc: 0.6641"
     ]
    },
    {
     "name": "stderr",
     "output_type": "stream",
     "text": [
      "C:\\Users\\Jirik\\Miniconda3\\envs\\scaffan\\lib\\site-packages\\keras\\callbacks.py:122: UserWarning: Method on_batch_end() is slow compared to the batch update (0.300213). Check your callbacks.\n",
      "  % delta_t_median)\n"
     ]
    },
    {
     "name": "stdout",
     "output_type": "stream",
     "text": [
      "1056/1260 [========================>.....] - ETA: 2s - loss: 0.6875 - acc: 0.6629"
     ]
    },
    {
     "name": "stderr",
     "output_type": "stream",
     "text": [
      "C:\\Users\\Jirik\\Miniconda3\\envs\\scaffan\\lib\\site-packages\\keras\\callbacks.py:122: UserWarning: Method on_batch_end() is slow compared to the batch update (0.282261). Check your callbacks.\n",
      "  % delta_t_median)\n"
     ]
    },
    {
     "name": "stdout",
     "output_type": "stream",
     "text": [
      "1152/1260 [==========================>...] - ETA: 1s - loss: 0.6823 - acc: 0.6658"
     ]
    },
    {
     "name": "stderr",
     "output_type": "stream",
     "text": [
      "C:\\Users\\Jirik\\Miniconda3\\envs\\scaffan\\lib\\site-packages\\keras\\callbacks.py:122: UserWarning: Method on_batch_end() is slow compared to the batch update (0.275265). Check your callbacks.\n",
      "  % delta_t_median)\n"
     ]
    },
    {
     "name": "stdout",
     "output_type": "stream",
     "text": [
      "1216/1260 [===========================>..] - ETA: 0s - loss: 0.6735 - acc: 0.6727"
     ]
    },
    {
     "name": "stderr",
     "output_type": "stream",
     "text": [
      "C:\\Users\\Jirik\\Miniconda3\\envs\\scaffan\\lib\\site-packages\\keras\\callbacks.py:122: UserWarning: Method on_batch_end() is slow compared to the batch update (0.245839). Check your callbacks.\n",
      "  % delta_t_median)\n",
      "C:\\Users\\Jirik\\Miniconda3\\envs\\scaffan\\lib\\site-packages\\keras\\callbacks.py:122: UserWarning: Method on_batch_end() is slow compared to the batch update (0.240853). Check your callbacks.\n",
      "  % delta_t_median)\n"
     ]
    },
    {
     "name": "stdout",
     "output_type": "stream",
     "text": [
      "\b\b\b\b\b\b\b\b\b\b\b\b\b\b\b\b\b\b\b\b\b\b\b\b\b\b\b\b\b\b\b\b\b\b\b\b\b\b\b\b\b\b\b\b\b\b\b\b\b\b\b\b\b\b\b\b\b\b\b\b\b\b\b\b\b\b\b\b\b\b\b\b\b\b\b\b\b\b\b\b\b\r",
      "1248/1260 [============================>.] - ETA: 0s - loss: 0.6755 - acc: 0.6723"
     ]
    },
    {
     "name": "stderr",
     "output_type": "stream",
     "text": [
      "C:\\Users\\Jirik\\Miniconda3\\envs\\scaffan\\lib\\site-packages\\keras\\callbacks.py:122: UserWarning: Method on_batch_end() is slow compared to the batch update (0.219921). Check your callbacks.\n",
      "  % delta_t_median)\n",
      "C:\\Users\\Jirik\\Miniconda3\\envs\\scaffan\\lib\\site-packages\\keras\\callbacks.py:122: UserWarning: Method on_batch_end() is slow compared to the batch update (0.215410). Check your callbacks.\n",
      "  % delta_t_median)\n"
     ]
    },
    {
     "name": "stdout",
     "output_type": "stream",
     "text": [
      "1260/1260 [==============================] - 18s 14ms/step - loss: 0.6735 - acc: 0.6738 - val_loss: 0.6935 - val_acc: 0.6977\n",
      "Epoch 2/3\n",
      "  96/1260 [=>............................] - ETA: 9s - loss: 0.4630 - acc: 0.8333"
     ]
    },
    {
     "name": "stderr",
     "output_type": "stream",
     "text": [
      "C:\\Users\\Jirik\\Miniconda3\\envs\\scaffan\\lib\\site-packages\\keras\\callbacks.py:122: UserWarning: Method on_batch_end() is slow compared to the batch update (0.157568). Check your callbacks.\n",
      "  % delta_t_median)\n",
      "C:\\Users\\Jirik\\Miniconda3\\envs\\scaffan\\lib\\site-packages\\keras\\callbacks.py:122: UserWarning: Method on_batch_end() is slow compared to the batch update (0.171055). Check your callbacks.\n",
      "  % delta_t_median)\n"
     ]
    },
    {
     "name": "stdout",
     "output_type": "stream",
     "text": [
      " 160/1260 [==>...........................] - ETA: 11s - loss: 0.6171 - acc: 0.7375"
     ]
    },
    {
     "name": "stderr",
     "output_type": "stream",
     "text": [
      "C:\\Users\\Jirik\\Miniconda3\\envs\\scaffan\\lib\\site-packages\\keras\\callbacks.py:122: UserWarning: Method on_batch_end() is slow compared to the batch update (0.184542). Check your callbacks.\n",
      "  % delta_t_median)\n",
      "C:\\Users\\Jirik\\Miniconda3\\envs\\scaffan\\lib\\site-packages\\keras\\callbacks.py:122: UserWarning: Method on_batch_end() is slow compared to the batch update (0.192510). Check your callbacks.\n",
      "  % delta_t_median)\n"
     ]
    },
    {
     "name": "stdout",
     "output_type": "stream",
     "text": [
      " 224/1260 [====>.........................] - ETA: 11s - loss: 0.6279 - acc: 0.7232"
     ]
    },
    {
     "name": "stderr",
     "output_type": "stream",
     "text": [
      "C:\\Users\\Jirik\\Miniconda3\\envs\\scaffan\\lib\\site-packages\\keras\\callbacks.py:122: UserWarning: Method on_batch_end() is slow compared to the batch update (0.186500). Check your callbacks.\n",
      "  % delta_t_median)\n",
      "C:\\Users\\Jirik\\Miniconda3\\envs\\scaffan\\lib\\site-packages\\keras\\callbacks.py:122: UserWarning: Method on_batch_end() is slow compared to the batch update (0.193489). Check your callbacks.\n",
      "  % delta_t_median)\n"
     ]
    },
    {
     "name": "stdout",
     "output_type": "stream",
     "text": [
      " 288/1260 [=====>........................] - ETA: 10s - loss: 0.6391 - acc: 0.7083"
     ]
    },
    {
     "name": "stderr",
     "output_type": "stream",
     "text": [
      "C:\\Users\\Jirik\\Miniconda3\\envs\\scaffan\\lib\\site-packages\\keras\\callbacks.py:122: UserWarning: Method on_batch_end() is slow compared to the batch update (0.197471). Check your callbacks.\n",
      "  % delta_t_median)\n",
      "C:\\Users\\Jirik\\Miniconda3\\envs\\scaffan\\lib\\site-packages\\keras\\callbacks.py:122: UserWarning: Method on_batch_end() is slow compared to the batch update (0.198974). Check your callbacks.\n",
      "  % delta_t_median)\n"
     ]
    },
    {
     "name": "stdout",
     "output_type": "stream",
     "text": [
      " 352/1260 [=======>......................] - ETA: 10s - loss: 0.6500 - acc: 0.6903"
     ]
    },
    {
     "name": "stderr",
     "output_type": "stream",
     "text": [
      "C:\\Users\\Jirik\\Miniconda3\\envs\\scaffan\\lib\\site-packages\\keras\\callbacks.py:122: UserWarning: Method on_batch_end() is slow compared to the batch update (0.200478). Check your callbacks.\n",
      "  % delta_t_median)\n",
      "C:\\Users\\Jirik\\Miniconda3\\envs\\scaffan\\lib\\site-packages\\keras\\callbacks.py:122: UserWarning: Method on_batch_end() is slow compared to the batch update (0.202451). Check your callbacks.\n",
      "  % delta_t_median)\n"
     ]
    },
    {
     "name": "stdout",
     "output_type": "stream",
     "text": [
      " 416/1260 [========>.....................] - ETA: 9s - loss: 0.6525 - acc: 0.6899"
     ]
    },
    {
     "name": "stderr",
     "output_type": "stream",
     "text": [
      "C:\\Users\\Jirik\\Miniconda3\\envs\\scaffan\\lib\\site-packages\\keras\\callbacks.py:122: UserWarning: Method on_batch_end() is slow compared to the batch update (0.238366). Check your callbacks.\n",
      "  % delta_t_median)\n",
      "C:\\Users\\Jirik\\Miniconda3\\envs\\scaffan\\lib\\site-packages\\keras\\callbacks.py:122: UserWarning: Method on_batch_end() is slow compared to the batch update (0.253840). Check your callbacks.\n",
      "  % delta_t_median)\n"
     ]
    },
    {
     "name": "stdout",
     "output_type": "stream",
     "text": [
      " 512/1260 [===========>..................] - ETA: 8s - loss: 0.6530 - acc: 0.6875"
     ]
    },
    {
     "name": "stderr",
     "output_type": "stream",
     "text": [
      "C:\\Users\\Jirik\\Miniconda3\\envs\\scaffan\\lib\\site-packages\\keras\\callbacks.py:122: UserWarning: Method on_batch_end() is slow compared to the batch update (0.225399). Check your callbacks.\n",
      "  % delta_t_median)\n"
     ]
    },
    {
     "name": "stdout",
     "output_type": "stream",
     "text": [
      " 608/1260 [=============>................] - ETA: 7s - loss: 0.6493 - acc: 0.6891"
     ]
    },
    {
     "name": "stderr",
     "output_type": "stream",
     "text": [
      "C:\\Users\\Jirik\\Miniconda3\\envs\\scaffan\\lib\\site-packages\\keras\\callbacks.py:122: UserWarning: Method on_batch_end() is slow compared to the batch update (0.249350). Check your callbacks.\n",
      "  % delta_t_median)\n"
     ]
    },
    {
     "name": "stdout",
     "output_type": "stream",
     "text": [
      " 704/1260 [===============>..............] - ETA: 6s - loss: 0.6482 - acc: 0.6889"
     ]
    },
    {
     "name": "stderr",
     "output_type": "stream",
     "text": [
      "C:\\Users\\Jirik\\Miniconda3\\envs\\scaffan\\lib\\site-packages\\keras\\callbacks.py:122: UserWarning: Method on_batch_end() is slow compared to the batch update (0.233377). Check your callbacks.\n",
      "  % delta_t_median)\n"
     ]
    },
    {
     "name": "stdout",
     "output_type": "stream",
     "text": [
      " 768/1260 [=================>............] - ETA: 5s - loss: 0.6410 - acc: 0.6953"
     ]
    },
    {
     "name": "stderr",
     "output_type": "stream",
     "text": [
      "C:\\Users\\Jirik\\Miniconda3\\envs\\scaffan\\lib\\site-packages\\keras\\callbacks.py:122: UserWarning: Method on_batch_end() is slow compared to the batch update (0.247355). Check your callbacks.\n",
      "  % delta_t_median)\n",
      "C:\\Users\\Jirik\\Miniconda3\\envs\\scaffan\\lib\\site-packages\\keras\\callbacks.py:122: UserWarning: Method on_batch_end() is slow compared to the batch update (0.268798). Check your callbacks.\n",
      "  % delta_t_median)\n"
     ]
    },
    {
     "name": "stdout",
     "output_type": "stream",
     "text": [
      " 864/1260 [===================>..........] - ETA: 4s - loss: 0.6396 - acc: 0.6956"
     ]
    },
    {
     "name": "stderr",
     "output_type": "stream",
     "text": [
      "C:\\Users\\Jirik\\Miniconda3\\envs\\scaffan\\lib\\site-packages\\keras\\callbacks.py:122: UserWarning: Method on_batch_end() is slow compared to the batch update (0.256318). Check your callbacks.\n",
      "  % delta_t_median)\n"
     ]
    },
    {
     "name": "stdout",
     "output_type": "stream",
     "text": [
      " 928/1260 [=====================>........] - ETA: 3s - loss: 0.6325 - acc: 0.7037"
     ]
    },
    {
     "name": "stderr",
     "output_type": "stream",
     "text": [
      "C:\\Users\\Jirik\\Miniconda3\\envs\\scaffan\\lib\\site-packages\\keras\\callbacks.py:122: UserWarning: Method on_batch_end() is slow compared to the batch update (0.240345). Check your callbacks.\n",
      "  % delta_t_median)\n"
     ]
    },
    {
     "name": "stdout",
     "output_type": "stream",
     "text": [
      " 992/1260 [======================>.......] - ETA: 3s - loss: 0.6305 - acc: 0.7046"
     ]
    },
    {
     "name": "stderr",
     "output_type": "stream",
     "text": [
      "C:\\Users\\Jirik\\Miniconda3\\envs\\scaffan\\lib\\site-packages\\keras\\callbacks.py:122: UserWarning: Method on_batch_end() is slow compared to the batch update (0.233380). Check your callbacks.\n",
      "  % delta_t_median)\n",
      "C:\\Users\\Jirik\\Miniconda3\\envs\\scaffan\\lib\\site-packages\\keras\\callbacks.py:122: UserWarning: Method on_batch_end() is slow compared to the batch update (0.258313). Check your callbacks.\n",
      "  % delta_t_median)\n"
     ]
    },
    {
     "name": "stdout",
     "output_type": "stream",
     "text": [
      "1056/1260 [========================>.....] - ETA: 2s - loss: 0.6334 - acc: 0.7008"
     ]
    },
    {
     "name": "stderr",
     "output_type": "stream",
     "text": [
      "C:\\Users\\Jirik\\Miniconda3\\envs\\scaffan\\lib\\site-packages\\keras\\callbacks.py:122: UserWarning: Method on_batch_end() is slow compared to the batch update (0.232366). Check your callbacks.\n",
      "  % delta_t_median)\n",
      "C:\\Users\\Jirik\\Miniconda3\\envs\\scaffan\\lib\\site-packages\\keras\\callbacks.py:122: UserWarning: Method on_batch_end() is slow compared to the batch update (0.239348). Check your callbacks.\n",
      "  % delta_t_median)\n"
     ]
    },
    {
     "name": "stdout",
     "output_type": "stream",
     "text": [
      "1184/1260 [===========================>..] - ETA: 0s - loss: 0.6274 - acc: 0.7061"
     ]
    },
    {
     "name": "stderr",
     "output_type": "stream",
     "text": [
      "C:\\Users\\Jirik\\Miniconda3\\envs\\scaffan\\lib\\site-packages\\keras\\callbacks.py:122: UserWarning: Method on_batch_end() is slow compared to the batch update (0.222406). Check your callbacks.\n",
      "  % delta_t_median)\n"
     ]
    },
    {
     "name": "stdout",
     "output_type": "stream",
     "text": [
      "\b\b\b\b\b\b\b\b\b\b\b\b\b\b\b\b\b\b\b\b\b\b\b\b\b\b\b\b\b\b\b\b\b\b\b\b\b\b\b\b\b\b\b\b\b\b\b\b\b\b\b\b\b\b\b\b\b\b\b\b\b\b\b\b\b\b\b\b\b\b\b\b\b\b\b\b\b\b\b\b\b\r",
      "1216/1260 [===========================>..] - ETA: 0s - loss: 0.6284 - acc: 0.7048"
     ]
    },
    {
     "name": "stderr",
     "output_type": "stream",
     "text": [
      "C:\\Users\\Jirik\\Miniconda3\\envs\\scaffan\\lib\\site-packages\\keras\\callbacks.py:122: UserWarning: Method on_batch_end() is slow compared to the batch update (0.229370). Check your callbacks.\n",
      "  % delta_t_median)\n"
     ]
    },
    {
     "name": "stdout",
     "output_type": "stream",
     "text": [
      "\b\b\b\b\b\b\b\b\b\b\b\b\b\b\b\b\b\b\b\b\b\b\b\b\b\b\b\b\b\b\b\b\b\b\b\b\b\b\b\b\b\b\b\b\b\b\b\b\b\b\b\b\b\b\b\b\b\b\b\b\b\b\b\b\b\b\b\b\b\b\b\b\b\b\b\b\b\b\b\b\b\r",
      "1248/1260 [============================>.] - ETA: 0s - loss: 0.6270 - acc: 0.7059"
     ]
    },
    {
     "name": "stderr",
     "output_type": "stream",
     "text": [
      "C:\\Users\\Jirik\\Miniconda3\\envs\\scaffan\\lib\\site-packages\\keras\\callbacks.py:122: UserWarning: Method on_batch_end() is slow compared to the batch update (0.222405). Check your callbacks.\n",
      "  % delta_t_median)\n"
     ]
    },
    {
     "name": "stdout",
     "output_type": "stream",
     "text": [
      "1260/1260 [==============================] - 16s 13ms/step - loss: 0.6272 - acc: 0.7056 - val_loss: 0.6229 - val_acc: 0.6977\n",
      "Epoch 3/3\n",
      "  64/1260 [>.............................] - ETA: 8s - loss: 0.5270 - acc: 0.7969"
     ]
    },
    {
     "name": "stderr",
     "output_type": "stream",
     "text": [
      "C:\\Users\\Jirik\\Miniconda3\\envs\\scaffan\\lib\\site-packages\\keras\\callbacks.py:122: UserWarning: Method on_batch_end() is slow compared to the batch update (0.170549). Check your callbacks.\n",
      "  % delta_t_median)\n",
      "C:\\Users\\Jirik\\Miniconda3\\envs\\scaffan\\lib\\site-packages\\keras\\callbacks.py:122: UserWarning: Method on_batch_end() is slow compared to the batch update (0.223903). Check your callbacks.\n",
      "  % delta_t_median)\n"
     ]
    },
    {
     "name": "stdout",
     "output_type": "stream",
     "text": [
      " 128/1260 [==>...........................] - ETA: 11s - loss: 0.5562 - acc: 0.7656"
     ]
    },
    {
     "name": "stderr",
     "output_type": "stream",
     "text": [
      "C:\\Users\\Jirik\\Miniconda3\\envs\\scaffan\\lib\\site-packages\\keras\\callbacks.py:122: UserWarning: Method on_batch_end() is slow compared to the batch update (0.194519). Check your callbacks.\n",
      "  % delta_t_median)\n",
      "C:\\Users\\Jirik\\Miniconda3\\envs\\scaffan\\lib\\site-packages\\keras\\callbacks.py:122: UserWarning: Method on_batch_end() is slow compared to the batch update (0.235888). Check your callbacks.\n",
      "  % delta_t_median)\n"
     ]
    },
    {
     "name": "stdout",
     "output_type": "stream",
     "text": [
      " 192/1260 [===>..........................] - ETA: 13s - loss: 0.5925 - acc: 0.7344"
     ]
    },
    {
     "name": "stderr",
     "output_type": "stream",
     "text": [
      "C:\\Users\\Jirik\\Miniconda3\\envs\\scaffan\\lib\\site-packages\\keras\\callbacks.py:122: UserWarning: Method on_batch_end() is slow compared to the batch update (0.277256). Check your callbacks.\n",
      "  % delta_t_median)\n",
      "C:\\Users\\Jirik\\Miniconda3\\envs\\scaffan\\lib\\site-packages\\keras\\callbacks.py:122: UserWarning: Method on_batch_end() is slow compared to the batch update (0.247338). Check your callbacks.\n",
      "  % delta_t_median)\n"
     ]
    },
    {
     "name": "stdout",
     "output_type": "stream",
     "text": [
      " 320/1260 [======>.......................] - ETA: 11s - loss: 0.6002 - acc: 0.7250"
     ]
    },
    {
     "name": "stderr",
     "output_type": "stream",
     "text": [
      "C:\\Users\\Jirik\\Miniconda3\\envs\\scaffan\\lib\\site-packages\\keras\\callbacks.py:122: UserWarning: Method on_batch_end() is slow compared to the batch update (0.290224). Check your callbacks.\n",
      "  % delta_t_median)\n"
     ]
    },
    {
     "name": "stdout",
     "output_type": "stream",
     "text": [
      " 384/1260 [========>.....................] - ETA: 11s - loss: 0.6089 - acc: 0.7135"
     ]
    },
    {
     "name": "stderr",
     "output_type": "stream",
     "text": [
      "C:\\Users\\Jirik\\Miniconda3\\envs\\scaffan\\lib\\site-packages\\keras\\callbacks.py:122: UserWarning: Method on_batch_end() is slow compared to the batch update (0.258309). Check your callbacks.\n",
      "  % delta_t_median)\n",
      "C:\\Users\\Jirik\\Miniconda3\\envs\\scaffan\\lib\\site-packages\\keras\\callbacks.py:122: UserWarning: Method on_batch_end() is slow compared to the batch update (0.276261). Check your callbacks.\n",
      "  % delta_t_median)\n"
     ]
    },
    {
     "name": "stdout",
     "output_type": "stream",
     "text": [
      " 448/1260 [=========>....................] - ETA: 10s - loss: 0.6106 - acc: 0.7143"
     ]
    },
    {
     "name": "stderr",
     "output_type": "stream",
     "text": [
      "C:\\Users\\Jirik\\Miniconda3\\envs\\scaffan\\lib\\site-packages\\keras\\callbacks.py:122: UserWarning: Method on_batch_end() is slow compared to the batch update (0.257313). Check your callbacks.\n",
      "  % delta_t_median)\n",
      "C:\\Users\\Jirik\\Miniconda3\\envs\\scaffan\\lib\\site-packages\\keras\\callbacks.py:122: UserWarning: Method on_batch_end() is slow compared to the batch update (0.289228). Check your callbacks.\n",
      "  % delta_t_median)\n"
     ]
    },
    {
     "name": "stdout",
     "output_type": "stream",
     "text": [
      "\b\b\b\b\b\b\b\b\b\b\b\b\b\b\b\b\b\b\b\b\b\b\b\b\b\b\b\b\b\b\b\b\b\b\b\b\b\b\b\b\b\b\b\b\b\b\b\b\b\b\b\b\b\b\b\b\b\b\b\b\b\b\b\b\b\b\b\b\b\b\b\b\b\b\b\b\b\b\b\b\b\b\r",
      " 480/1260 [==========>...................] - ETA: 10s - loss: 0.6109 - acc: 0.7146"
     ]
    },
    {
     "name": "stderr",
     "output_type": "stream",
     "text": [
      "C:\\Users\\Jirik\\Miniconda3\\envs\\scaffan\\lib\\site-packages\\keras\\callbacks.py:122: UserWarning: Method on_batch_end() is slow compared to the batch update (0.267285). Check your callbacks.\n",
      "  % delta_t_median)\n"
     ]
    },
    {
     "name": "stdout",
     "output_type": "stream",
     "text": [
      " 576/1260 [============>.................] - ETA: 9s - loss: 0.6192 - acc: 0.7031"
     ]
    },
    {
     "name": "stderr",
     "output_type": "stream",
     "text": [
      "C:\\Users\\Jirik\\Miniconda3\\envs\\scaffan\\lib\\site-packages\\keras\\callbacks.py:122: UserWarning: Method on_batch_end() is slow compared to the batch update (0.273768). Check your callbacks.\n",
      "  % delta_t_median)\n"
     ]
    },
    {
     "name": "stdout",
     "output_type": "stream",
     "text": [
      " 736/1260 [================>.............] - ETA: 6s - loss: 0.6258 - acc: 0.6943"
     ]
    },
    {
     "name": "stderr",
     "output_type": "stream",
     "text": [
      "C:\\Users\\Jirik\\Miniconda3\\envs\\scaffan\\lib\\site-packages\\keras\\callbacks.py:122: UserWarning: Method on_batch_end() is slow compared to the batch update (0.274765). Check your callbacks.\n",
      "  % delta_t_median)\n"
     ]
    },
    {
     "name": "stdout",
     "output_type": "stream",
     "text": [
      "\b\b\b\b\b\b\b\b\b\b\b\b\b\b\b\b\b\b\b\b\b\b\b\b\b\b\b\b\b\b\b\b\b\b\b\b\b\b\b\b\b\b\b\b\b\b\b\b\b\b\b\b\b\b\b\b\b\b\b\b\b\b\b\b\b\b\b\b\b\b\b\b\b\b\b\b\b\b\b\b\b\r",
      " 768/1260 [=================>............] - ETA: 6s - loss: 0.6268 - acc: 0.6927"
     ]
    },
    {
     "name": "stderr",
     "output_type": "stream",
     "text": [
      "C:\\Users\\Jirik\\Miniconda3\\envs\\scaffan\\lib\\site-packages\\keras\\callbacks.py:122: UserWarning: Method on_batch_end() is slow compared to the batch update (0.267298). Check your callbacks.\n",
      "  % delta_t_median)\n"
     ]
    },
    {
     "name": "stdout",
     "output_type": "stream",
     "text": [
      " 864/1260 [===================>..........] - ETA: 5s - loss: 0.6299 - acc: 0.6887"
     ]
    },
    {
     "name": "stderr",
     "output_type": "stream",
     "text": [
      "C:\\Users\\Jirik\\Miniconda3\\envs\\scaffan\\lib\\site-packages\\keras\\callbacks.py:122: UserWarning: Method on_batch_end() is slow compared to the batch update (0.297205). Check your callbacks.\n",
      "  % delta_t_median)\n",
      "C:\\Users\\Jirik\\Miniconda3\\envs\\scaffan\\lib\\site-packages\\keras\\callbacks.py:122: UserWarning: Method on_batch_end() is slow compared to the batch update (0.293216). Check your callbacks.\n",
      "  % delta_t_median)\n"
     ]
    },
    {
     "name": "stdout",
     "output_type": "stream",
     "text": [
      " 960/1260 [=====================>........] - ETA: 4s - loss: 0.6266 - acc: 0.6948"
     ]
    },
    {
     "name": "stderr",
     "output_type": "stream",
     "text": [
      "C:\\Users\\Jirik\\Miniconda3\\envs\\scaffan\\lib\\site-packages\\keras\\callbacks.py:122: UserWarning: Method on_batch_end() is slow compared to the batch update (0.280765). Check your callbacks.\n",
      "  % delta_t_median)\n"
     ]
    },
    {
     "name": "stdout",
     "output_type": "stream",
     "text": [
      "1024/1260 [=======================>......] - ETA: 3s - loss: 0.6262 - acc: 0.6953"
     ]
    },
    {
     "name": "stderr",
     "output_type": "stream",
     "text": [
      "C:\\Users\\Jirik\\Miniconda3\\envs\\scaffan\\lib\\site-packages\\keras\\callbacks.py:122: UserWarning: Method on_batch_end() is slow compared to the batch update (0.264310). Check your callbacks.\n",
      "  % delta_t_median)\n",
      "C:\\Users\\Jirik\\Miniconda3\\envs\\scaffan\\lib\\site-packages\\keras\\callbacks.py:122: UserWarning: Method on_batch_end() is slow compared to the batch update (0.253337). Check your callbacks.\n",
      "  % delta_t_median)\n"
     ]
    },
    {
     "name": "stdout",
     "output_type": "stream",
     "text": [
      "1120/1260 [=========================>....] - ETA: 1s - loss: 0.6225 - acc: 0.7000"
     ]
    },
    {
     "name": "stderr",
     "output_type": "stream",
     "text": [
      "C:\\Users\\Jirik\\Miniconda3\\envs\\scaffan\\lib\\site-packages\\keras\\callbacks.py:122: UserWarning: Method on_batch_end() is slow compared to the batch update (0.286750). Check your callbacks.\n",
      "  % delta_t_median)\n"
     ]
    },
    {
     "name": "stdout",
     "output_type": "stream",
     "text": [
      "1184/1260 [===========================>..] - ETA: 1s - loss: 0.6211 - acc: 0.7019"
     ]
    },
    {
     "name": "stderr",
     "output_type": "stream",
     "text": [
      "C:\\Users\\Jirik\\Miniconda3\\envs\\scaffan\\lib\\site-packages\\keras\\callbacks.py:122: UserWarning: Method on_batch_end() is slow compared to the batch update (0.231363). Check your callbacks.\n",
      "  % delta_t_median)\n"
     ]
    },
    {
     "name": "stdout",
     "output_type": "stream",
     "text": [
      "1248/1260 [============================>.] - ETA: 0s - loss: 0.6175 - acc: 0.7059"
     ]
    },
    {
     "name": "stderr",
     "output_type": "stream",
     "text": [
      "C:\\Users\\Jirik\\Miniconda3\\envs\\scaffan\\lib\\site-packages\\keras\\callbacks.py:122: UserWarning: Method on_batch_end() is slow compared to the batch update (0.240860). Check your callbacks.\n",
      "  % delta_t_median)\n"
     ]
    },
    {
     "name": "stdout",
     "output_type": "stream",
     "text": [
      "\b\b\b\b\b\b\b\b\b\b\b\b\b\b\b\b\b\b\b\b\b\b\b\b\b\b\b\b\b\b\b\b\b\b\b\b\b\b\b\b\b\b\b\b\b\b\b\b\b\b\b\b\b\b\b\b\b\b\b\b\b\b\b\b\b\b\b\b\b\b\b\b\b\b\b\b\b\b\b\b\b\r",
      "1260/1260 [==============================] - 18s 14ms/step - loss: 0.6177 - acc: 0.7056 - val_loss: 0.6210 - val_acc: 0.6977\n"
     ]
    },
    {
     "data": {
      "text/plain": [
       "<keras.callbacks.History at 0x180e2ce1f60>"
      ]
     },
     "execution_count": 42,
     "metadata": {},
     "output_type": "execute_result"
    }
   ],
   "source": [
    "#train the model\n",
    "model.fit(X_train, y_train, validation_data=(X_test, y_test), epochs=3)"
   ]
  },
  {
   "cell_type": "markdown",
   "metadata": {},
   "source": [
    "## Predict"
   ]
  },
  {
   "cell_type": "code",
   "execution_count": 66,
   "metadata": {},
   "outputs": [
    {
     "data": {
      "text/plain": [
       "<matplotlib.image.AxesImage at 0x180e7cc0b38>"
      ]
     },
     "execution_count": 66,
     "metadata": {},
     "output_type": "execute_result"
    },
    {
     "data": {
      "image/png": "[encoded data removed]",
      "text/plain": [
       "<Figure size 432x288 with 1 Axes>"
      ]
     },
     "metadata": {
      "needs_background": "light"
     },
     "output_type": "display_data"
    }
   ],
   "source": [
    "plt.imshow(X_test[-116].reshape(28,28), cmap='gray')"
   ]
  },
  {
   "cell_type": "code",
   "execution_count": 75,
   "metadata": {},
   "outputs": [
    {
     "name": "stdout",
     "output_type": "stream",
     "text": [
      "1\n"
     ]
    },
    {
     "data": {
      "image/png": "[encoded data removed]",
      "text/plain": [
       "<Figure size 432x288 with 1 Axes>"
      ]
     },
     "metadata": {
      "needs_background": "light"
     },
     "output_type": "display_data"
    }
   ],
   "source": [
    "i = -200\n",
    "plt.imshow(X[i,:,:,0], cmap=\"gray\")\n",
    "print(y[i])"
   ]
  },
  {
   "cell_type": "code",
   "execution_count": 110,
   "metadata": {},
   "outputs": [
    {
     "data": {
      "text/plain": [
       "1"
      ]
     },
     "execution_count": 110,
     "metadata": {},
     "output_type": "execute_result"
    }
   ],
   "source": [
    "np.max(np.argmax(model.predict(X_test[:]), axis=1))"
   ]
  },
  {
   "cell_type": "markdown",
   "metadata": {},
   "source": [
    "# Image segmentation "
   ]
  },
  {
   "cell_type": "code",
   "execution_count": 84,
   "metadata": {},
   "outputs": [
    {
     "name": "stderr",
     "output_type": "stream",
     "text": [
      "2019-07-10 08:50:42.390 | DEBUG    | scaffan.image:__init__:166 - Reading file C:\\Users\\Jirik/data/medical/orig/Scaffan-analysis/PIG-003_J-18-0165_HE.ndpi\n",
      "2019-07-10 08:50:42.639 | DEBUG    | scaffan.image:__init__:180 - Reading the annotation\n",
      "2019-07-10 08:50:44.454 | DEBUG    | scaffan.annotation:read_annotations:112 - windows annotation output:b'2019-07-10 08:50:44.294 | DEBUG    | scaffan.annotation:ndpa_to_json:64 - PATH: C:\\\\Users\\\\Jirik\\\\Miniconda3\\\\envs\\\\scaffan\\\\Library\\\\bin;C:\\\\Users\\\\Jirik\\\\Downloads\\\\openslide-win64-20171122\\\\bin;C:\\\\Users\\\\Jirik\\\\Miniconda3\\\\envs\\\\scaffan\\\\Library\\\\bin;C:\\\\Users\\\\Jirik\\\\Miniconda3\\\\envs\\\\scaffan\\\\Library\\\\bin;C:\\\\Users\\\\Jirik\\\\Miniconda3\\\\envs\\\\scaffan\\\\Library\\\\bin;C:\\\\Users\\\\Jirik\\\\Miniconda3\\\\envs\\\\scaffan;C:\\\\Users\\\\Jirik\\\\Miniconda3\\\\envs\\\\scaffan\\\\Library\\\\mingw-w64\\\\bin;C:\\\\Users\\\\Jirik\\\\Miniconda3\\\\envs\\\\scaffan\\\\Library\\\\usr\\\\bin;C:\\\\Users\\\\Jirik\\\\Miniconda3\\\\envs\\\\scaffan\\\\Library\\\\bin;C:\\\\Users\\\\Jirik\\\\Miniconda3\\\\envs\\\\scaffan\\\\Scripts;C:\\\\Users\\\\Jirik\\\\Miniconda3\\\\envs\\\\scaffan\\\\bin;C:\\\\Users\\\\Jirik\\\\Miniconda3\\\\condabin;C:\\\\Users\\\\Jirik\\\\AppData\\\\Local\\\\cmder\\\\bin;C:\\\\Users\\\\Jirik\\\\AppData\\\\Local\\\\cmder\\\\vendor\\\\bin;C:\\\\Users\\\\Jirik\\\\AppData\\\\Local\\\\cmder\\\\vendor\\\\conemu-maximus5\\\\ConEmu\\\\Scripts;C:\\\\Users\\\\Jirik\\\\AppData\\\\Local\\\\cmder\\\\vendor\\\\conemu-maximus5;C:\\\\Users\\\\Jirik\\\\AppData\\\\Local\\\\cmder\\\\vendor\\\\conemu-maximus5\\\\ConEmu;C:\\\\Program Files (x86)\\\\Intel\\\\Intel(R) Management Engine Components\\\\iCLS;C:\\\\Program Files\\\\Intel\\\\Intel(R) Management Engine Components\\\\iCLS;C:\\\\WINDOWS\\\\system32;C:\\\\WINDOWS;C:\\\\WINDOWS\\\\System32\\\\Wbem;C:\\\\WINDOWS\\\\System32\\\\WindowsPowerShell\\\\v1.0;C:\\\\WINDOWS\\\\System32\\\\OpenSSH;C:\\\\Program Files (x86)\\\\Intel\\\\Intel(R) Management Engine Components\\\\DAL;C:\\\\Program Files\\\\Intel\\\\Intel(R) Management Engine Components\\\\DAL;C:\\\\Program Files (x86)\\\\Intel\\\\Intel(R) Management Engine Components\\\\IPT;C:\\\\Program Files\\\\Intel\\\\Intel(R) Management Engine Components\\\\IPT;C:\\\\Program Files\\\\PuTTY;C:\\\\Users\\\\Jirik\\\\AppData\\\\Local\\\\Julia-1.1.0\\\\bin;C:\\\\Program Files\\\\Intel\\\\WiFi\\\\bin;C:\\\\Program Files\\\\Common Files\\\\Intel\\\\WirelessCommon;C:\\\\Program Files\\\\MIT\\\\Kerberos\\\\bin;C:\\\\Users\\\\Jirik\\\\Miniconda3;C:\\\\Users\\\\Jirik\\\\Miniconda3\\\\Library\\\\mingw-w64\\\\bin;C:\\\\Users\\\\Jirik\\\\Miniconda3\\\\Library\\\\usr\\\\bin;C:\\\\Users\\\\Jirik\\\\Miniconda3\\\\Library\\\\bin;C:\\\\Users\\\\Jirik\\\\Miniconda3\\\\Scripts;C:\\\\Users\\\\Jirik\\\\AppData\\\\Local\\\\Microsoft\\\\WindowsApps;C:\\\\Users\\\\Jirik\\\\AppData\\\\Local\\\\Programs\\\\Git\\\\cmd;C:\\\\Users\\\\Jirik\\\\AppData\\\\Local\\\\atom\\\\bin;C:\\\\Users\\\\Jirik\\\\AppData\\\\Local\\\\Julia-1.1.1\\\\bin;C:\\\\Users\\\\Jirik\\\\AppData\\\\Local\\\\Programs\\\\MiKTeX 2.9\\\\miktex\\\\bin\\\\x64;C:\\\\Users\\\\Jirik\\\\Miniconda3\\\\Library\\\\bin\\\\usr\\\\bin;C:\\\\Users\\\\Jirik\\\\AppData\\\\Local\\\\cmder\\r\\n'\n"
     ]
    },
    {
     "name": "stdout",
     "output_type": "stream",
     "text": [
      "[10, 11, 12, 13, 14, 15, 16, 17, 18, 19]\n"
     ]
    }
   ],
   "source": [
    "from pathlib import Path\n",
    "path_to_script =  Path(\"~/projects/scaffan/\").expanduser()\n",
    "sys.path.insert(0,str(path_to_script))\n",
    "import scaffan\n",
    "import scaffan.image as scim\n",
    "import io3d\n",
    "\n",
    "pixelsize_mm = [0.004, 0.004]\n",
    "\n",
    "fn = io3d.datasets.join_path(\"medical/orig/Scaffan-analysis/PIG-003_J-18-0165_HE.ndpi\", get_root=True)\n",
    "anim = scim.AnnotatedImage(fn)\n",
    "#\n",
    "ann_ids = anim.select_annotations_by_color(\"#000000\")\n",
    "print(ann_ids)\n",
    "view = anim.get_views(ann_ids, pixelsize_mm=pixelsize_mm)[0]"
   ]
  },
  {
   "cell_type": "code",
   "execution_count": 85,
   "metadata": {},
   "outputs": [
    {
     "data": {
      "text/plain": [
       "<matplotlib.image.AxesImage at 0x180e2016550>"
      ]
     },
     "execution_count": 85,
     "metadata": {},
     "output_type": "execute_result"
    },
    {
     "data": {
      "image/png": "[encoded data removed]",
      "text/plain": [
       "<Figure size 432x288 with 1 Axes>"
      ]
     },
     "metadata": {
      "needs_background": "light"
     },
     "output_type": "display_data"
    }
   ],
   "source": [
    "img = view.get_region_image(as_gray=True)\n",
    "plt.imshow(img, cmap=\"gray\")"
   ]
  },
  {
   "cell_type": "code",
   "execution_count": 87,
   "metadata": {},
   "outputs": [],
   "source": [
    "seg = np.zeros_like(img, dtype=np.uint8)"
   ]
  },
  {
   "cell_type": "code",
   "execution_count": 106,
   "metadata": {},
   "outputs": [],
   "source": [
    "for ind0 in range(0, seg.shape[0], tile_size):\n",
    "    for ind1 in range(0, seg.shape[1], tile_size):\n",
    "        sl1 = slice(ind0, (ind0+tile_size))\n",
    "        sl2 = slice(ind1, (ind1+tile_size))\n",
    "#         print(sl1, sl2)\n",
    "        img0 = img[sl1,sl2]\n",
    "        if img0.shape == (tile_size, tile_size):\n",
    "            img0ok = img0\n",
    "            pr = model.predict(img0ok.reshape(1,tile_size, tile_size, 1))\n",
    "            val = np.argmax(pr)\n",
    "            seg[sl1, sl2] = val\n",
    "            \n",
    "        "
   ]
  },
  {
   "cell_type": "code",
   "execution_count": 100,
   "metadata": {},
   "outputs": [
    {
     "data": {
      "text/plain": [
       "True"
      ]
     },
     "execution_count": 100,
     "metadata": {},
     "output_type": "execute_result"
    }
   ],
   "source": [
    "# img0ok.shape == (tile_size, tile_size)"
   ]
  },
  {
   "cell_type": "code",
   "execution_count": 107,
   "metadata": {},
   "outputs": [
    {
     "data": {
      "text/plain": [
       "<matplotlib.image.AxesImage at 0x180e88cadd8>"
      ]
     },
     "execution_count": 107,
     "metadata": {},
     "output_type": "execute_result"
    },
    {
     "data": {
      "image/png": "[encoded data removed]",
      "text/plain": [
       "<Figure size 432x288 with 1 Axes>"
      ]
     },
     "metadata": {
      "needs_background": "light"
     },
     "output_type": "display_data"
    }
   ],
   "source": [
    "plt.imshow(seg)"
   ]
  },
  {
   "cell_type": "code",
   "execution_count": 105,
   "metadata": {},
   "outputs": [
    {
     "data": {
      "text/plain": [
       "1"
      ]
     },
     "execution_count": 105,
     "metadata": {},
     "output_type": "execute_result"
    }
   ],
   "source": []
  }
 ],
 "metadata": {
  "kernelspec": {
   "display_name": "Python 3",
   "language": "python",
   "name": "python3"
  },
  "language_info": {
   "codemirror_mode": {
    "name": "ipython",
    "version": 3
   },
   "file_extension": ".py",
   "mimetype": "text/x-python",
   "name": "python",
   "nbconvert_exporter": "python",
   "pygments_lexer": "ipython3",
   "version": "3.6.6"
  },
  "toc": {
   "base_numbering": 1,
   "nav_menu": {},
   "number_sections": true,
   "sideBar": true,
   "skip_h1_title": false,
   "title_cell": "Table of Contents",
   "title_sidebar": "Contents",
   "toc_cell": false,
   "toc_position": {},
   "toc_section_display": true,
   "toc_window_display": true
  }
 },
 "nbformat": 4,
 "nbformat_minor": 2
}
