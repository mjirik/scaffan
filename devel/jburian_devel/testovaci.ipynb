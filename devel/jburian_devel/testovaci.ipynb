{
 "cells": [
  {
   "cell_type": "code",
   "execution_count": 1,
   "metadata": {
    "collapsed": true
   },
   "outputs": [
    {
     "name": "stderr",
     "output_type": "stream",
     "text": [
      "2021-10-14 10:40:34.602 | DEBUG    | scaffan.image:import_openslide:61 - add path C:\\Users\\janbu\\Downloads\\openslide-win64-20171122\\bin\n",
      "2021-10-14 10:40:34.737 | DEBUG    | scaffan.image:__init__:403 - fs_enc: utf-8\n",
      "2021-10-14 10:40:34.737 | DEBUG    | scaffan.image:__init__:404 - Reading file H:\\zeiss_export_json\\annotation1.czi\n",
      "2021-10-14 10:40:34.809 | DEBUG    | scaffan.image:_set_properties_czi:336 - nzi pixelsize  2.1959440912634365e-07x2.1959440912634365e-07 [m]\n",
      "2021-10-14 10:40:34.811 | DEBUG    | scaffan.image:read_annotations:630 - Reading the annotation H:\\zeiss_export_json\\annotation1.czi\n"
     ]
    },
    {
     "name": "stdout",
     "output_type": "stream",
     "text": [
      "filename: H:\\zeiss_export_json\\annotation1.czi True\n"
     ]
    },
    {
     "ename": "TypeError",
     "evalue": "get_metadata_czi() got an unexpected keyword argument 'path'",
     "output_type": "error",
     "traceback": [
      "\u001B[1;31m---------------------------------------------------------------------------\u001B[0m",
      "\u001B[1;31mTypeError\u001B[0m                                 Traceback (most recent call last)",
      "\u001B[1;32m<ipython-input-1-d0d9001d1ad3>\u001B[0m in \u001B[0;36m<module>\u001B[1;34m\u001B[0m\n\u001B[0;32m     14\u001B[0m \u001B[0mprint\u001B[0m\u001B[1;33m(\u001B[0m\u001B[1;34mf\"filename: {fn} {fn.exists()}\"\u001B[0m\u001B[1;33m)\u001B[0m\u001B[1;33m\u001B[0m\u001B[1;33m\u001B[0m\u001B[0m\n\u001B[0;32m     15\u001B[0m \u001B[1;33m\u001B[0m\u001B[0m\n\u001B[1;32m---> 16\u001B[1;33m \u001B[0manim\u001B[0m \u001B[1;33m=\u001B[0m \u001B[0mscaffan\u001B[0m\u001B[1;33m.\u001B[0m\u001B[0mimage\u001B[0m\u001B[1;33m.\u001B[0m\u001B[0mAnnotatedImage\u001B[0m\u001B[1;33m(\u001B[0m\u001B[0mpath\u001B[0m\u001B[1;33m=\u001B[0m\u001B[0mstr\u001B[0m\u001B[1;33m(\u001B[0m\u001B[0mpath_annotation\u001B[0m\u001B[1;33m)\u001B[0m\u001B[1;33m)\u001B[0m\u001B[1;33m\u001B[0m\u001B[1;33m\u001B[0m\u001B[0m\n\u001B[0m\u001B[0;32m     17\u001B[0m \u001B[0mprint\u001B[0m\u001B[1;33m(\u001B[0m\u001B[0manim\u001B[0m\u001B[1;33m.\u001B[0m\u001B[0mannotations\u001B[0m\u001B[1;33m)\u001B[0m\u001B[1;33m\u001B[0m\u001B[1;33m\u001B[0m\u001B[0m\n\u001B[0;32m     18\u001B[0m \u001B[1;33m\u001B[0m\u001B[0m\n",
      "\u001B[1;32m~\\GitHub\\scaffan\\scaffan\\image.py\u001B[0m in \u001B[0;36m__init__\u001B[1;34m(self, path, skip_read_annotations)\u001B[0m\n\u001B[0;32m    423\u001B[0m         \u001B[0mself\u001B[0m\u001B[1;33m.\u001B[0m\u001B[0mannotations\u001B[0m \u001B[1;33m=\u001B[0m \u001B[1;32mNone\u001B[0m\u001B[1;33m\u001B[0m\u001B[1;33m\u001B[0m\u001B[0m\n\u001B[0;32m    424\u001B[0m         \u001B[1;32mif\u001B[0m \u001B[1;32mnot\u001B[0m \u001B[0mskip_read_annotations\u001B[0m\u001B[1;33m:\u001B[0m\u001B[1;33m\u001B[0m\u001B[1;33m\u001B[0m\u001B[0m\n\u001B[1;32m--> 425\u001B[1;33m             \u001B[0mself\u001B[0m\u001B[1;33m.\u001B[0m\u001B[0mread_annotations\u001B[0m\u001B[1;33m(\u001B[0m\u001B[1;33m)\u001B[0m\u001B[1;33m\u001B[0m\u001B[1;33m\u001B[0m\u001B[0m\n\u001B[0m\u001B[0;32m    426\u001B[0m         \u001B[0mself\u001B[0m\u001B[1;33m.\u001B[0m\u001B[0mintensity_rescaler\u001B[0m \u001B[1;33m=\u001B[0m \u001B[0mimage_intensity_rescale\u001B[0m\u001B[1;33m.\u001B[0m\u001B[0mRescaleIntensityPercentile\u001B[0m\u001B[1;33m(\u001B[0m\u001B[1;33m)\u001B[0m\u001B[1;33m\u001B[0m\u001B[1;33m\u001B[0m\u001B[0m\n\u001B[0;32m    427\u001B[0m         \u001B[0mself\u001B[0m\u001B[1;33m.\u001B[0m\u001B[0mrun_intensity_rescale\u001B[0m \u001B[1;33m=\u001B[0m \u001B[1;32mFalse\u001B[0m\u001B[1;33m\u001B[0m\u001B[1;33m\u001B[0m\u001B[0m\n",
      "\u001B[1;32m~\\GitHub\\scaffan\\scaffan\\image.py\u001B[0m in \u001B[0;36mread_annotations\u001B[1;34m(self)\u001B[0m\n\u001B[0;32m    641\u001B[0m             \u001B[1;31m#metadata_czi = imagedata_czi.metadata\u001B[0m\u001B[1;33m\u001B[0m\u001B[1;33m\u001B[0m\u001B[1;33m\u001B[0m\u001B[0m\n\u001B[0;32m    642\u001B[0m \u001B[1;33m\u001B[0m\u001B[0m\n\u001B[1;32m--> 643\u001B[1;33m             \u001B[0mmetadata_czi\u001B[0m \u001B[1;33m=\u001B[0m \u001B[0mImageSlide\u001B[0m\u001B[1;33m.\u001B[0m\u001B[0mget_metadata_czi\u001B[0m\u001B[1;33m(\u001B[0m\u001B[0manim\u001B[0m\u001B[1;33m=\u001B[0m\u001B[0mself\u001B[0m\u001B[1;33m,\u001B[0m \u001B[0mpath\u001B[0m\u001B[1;33m=\u001B[0m\u001B[0mself\u001B[0m\u001B[1;33m.\u001B[0m\u001B[0mpath\u001B[0m\u001B[1;33m)\u001B[0m \u001B[1;31m# nacitani metadat pomoci vlastni metody (asi bude fungovat spise)\u001B[0m\u001B[1;33m\u001B[0m\u001B[1;33m\u001B[0m\u001B[0m\n\u001B[0m\u001B[0;32m    644\u001B[0m             \u001B[0mlistOfBeziers\u001B[0m\u001B[1;33m,\u001B[0m \u001B[0mlistOfCircles\u001B[0m\u001B[1;33m,\u001B[0m \u001B[0mlistOfRectangles\u001B[0m\u001B[1;33m,\u001B[0m \u001B[0mlistOfEllipses\u001B[0m \u001B[1;33m=\u001B[0m \u001B[0mload_zeiss_elements\u001B[0m\u001B[1;33m(\u001B[0m\u001B[0manim\u001B[0m\u001B[1;33m=\u001B[0m\u001B[0mself\u001B[0m\u001B[1;33m,\u001B[0m \u001B[0mmetadata\u001B[0m\u001B[1;33m=\u001B[0m\u001B[0mmetadata_czi\u001B[0m\u001B[1;33m)\u001B[0m\u001B[1;33m\u001B[0m\u001B[1;33m\u001B[0m\u001B[0m\n\u001B[0;32m    645\u001B[0m             \u001B[1;31m#  self.annotations = insert_zeiss_annotation_bezier(anim=self, ...)\u001B[0m\u001B[1;33m\u001B[0m\u001B[1;33m\u001B[0m\u001B[1;33m\u001B[0m\u001B[0m\n",
      "\u001B[1;31mTypeError\u001B[0m: get_metadata_czi() got an unexpected keyword argument 'path'"
     ]
    }
   ],
   "source": [
    "from pathlib import Path\n",
    "import sys\n",
    "path_to_script = Path(\"~/projects/scaffan/\").expanduser()\n",
    "sys.path.insert(0,str(path_to_script))\n",
    "import matplotlib.pyplot as plt\n",
    "import scaffan.image\n",
    "import io3d\n",
    "\n",
    "\n",
    "# Loading .czi annotations TODO: Add loading of multiple annotations\n",
    "path_annotation = Path(r\"H:\\zeiss_export_json\\annotation1.czi\")\n",
    "#picture_path_annotation_string = str(Path(r\"H:\\zeiss_export_json\\annotation1.czi\"))\n",
    "fn = path_annotation\n",
    "print(f\"filename: {fn} {fn.exists()}\")\n",
    "\n",
    "anim = scaffan.image.AnnotatedImage(path=str(path_annotation))\n",
    "print(anim.annotations)\n"
   ]
  }
 ],
 "metadata": {
  "kernelspec": {
   "name": "pycharm-a314d275",
   "language": "python",
   "display_name": "PyCharm (scaffan)"
  },
  "language_info": {
   "codemirror_mode": {
    "name": "ipython",
    "version": 2
   },
   "file_extension": ".py",
   "mimetype": "text/x-python",
   "name": "python",
   "nbconvert_exporter": "python",
   "pygments_lexer": "ipython2",
   "version": "2.7.6"
  }
 },
 "nbformat": 4,
 "nbformat_minor": 0
}