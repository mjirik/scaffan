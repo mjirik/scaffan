{
 "cells": [
  {
   "cell_type": "code",
   "execution_count": 9,
   "metadata": {},
   "outputs": [
    {
     "name": "stdout",
     "output_type": "stream",
     "text": [
      "Populating the interactive namespace from numpy and matplotlib\n"
     ]
    }
   ],
   "source": [
    "%pylab inline\n",
    "import skimage\n",
    "import skimage.morphology\n",
    "import scipy.ndimage.morphology\n",
    "import numpy as np"
   ]
  },
  {
   "cell_type": "code",
   "execution_count": 88,
   "metadata": {},
   "outputs": [
    {
     "data": {
      "text/plain": [
       "<matplotlib.image.AxesImage at 0x24a4295fa58>"
      ]
     },
     "execution_count": 88,
     "metadata": {},
     "output_type": "execute_result"
    },
    {
     "data": {
      "image/png": "[encoded data removed]",
      "text/plain": [
       "<Figure size 432x288 with 1 Axes>"
      ]
     },
     "metadata": {
      "needs_background": "light"
     },
     "output_type": "display_data"
    }
   ],
   "source": [
    "mask = np.ones([100, 100], dtype=bool)\n",
    "\n",
    "# --\n",
    "mask[20:24,:] = False \n",
    "mask[70:74,:] = False\n",
    "\n",
    "# ||\n",
    "mask[:,20:24] = False\n",
    "mask[:,70:74] = False\n",
    "\n",
    "# half line\n",
    "mask[40:44,45:] = False\n",
    "\n",
    "#\n",
    "mask[15:31,15:31] = False \n",
    "\n",
    "plt.imshow(mask)\n",
    "\n"
   ]
  },
  {
   "cell_type": "code",
   "execution_count": 13,
   "metadata": {},
   "outputs": [
    {
     "data": {
      "text/plain": [
       "<matplotlib.image.AxesImage at 0x24a41fa9278>"
      ]
     },
     "execution_count": 13,
     "metadata": {},
     "output_type": "execute_result"
    },
    {
     "data": {
      "image/png": "[encoded data removed]",
      "text/plain": [
       "<Figure size 432x288 with 1 Axes>"
      ]
     },
     "metadata": {
      "needs_background": "light"
     },
     "output_type": "display_data"
    }
   ],
   "source": [
    "dist = scipy.ndimage.morphology.distance_transform_edt(mask)\n",
    "imshow(dist)"
   ]
  },
  {
   "cell_type": "code",
   "execution_count": 15,
   "metadata": {},
   "outputs": [
    {
     "data": {
      "text/plain": [
       "<matplotlib.image.AxesImage at 0x24a420622e8>"
      ]
     },
     "execution_count": 15,
     "metadata": {},
     "output_type": "execute_result"
    },
    {
     "data": {
      "image/png": "[encoded data removed]",
      "text/plain": [
       "<Figure size 432x288 with 1 Axes>"
      ]
     },
     "metadata": {
      "needs_background": "light"
     },
     "output_type": "display_data"
    }
   ],
   "source": [
    "lab = skimage.morphology.label(mask)\n",
    "imshow(lab)"
   ]
  },
  {
   "cell_type": "code",
   "execution_count": 39,
   "metadata": {},
   "outputs": [],
   "source": [
    "mxs = [None] * (np.max(lab)-1)\n",
    "for l in range(1, np.max(lab)):\n",
    "#     if l == 0:\n",
    "#         mxs[l] = (l,())\n",
    "#         continue\n",
    "    dist_i = scipy.ndimage.morphology.distance_transform_edt(lab == l)\n",
    "    mx = np.max(dist_i)\n",
    "    xyz = np.unravel_index(np.argmax(dist_i), shape = lab.shape)\n",
    "    mxs[l-1] = (mx, xyz)\n",
    "#     print(xyz)\n",
    "    "
   ]
  },
  {
   "cell_type": "code",
   "execution_count": 40,
   "metadata": {},
   "outputs": [
    {
     "data": {
      "text/plain": [
       "[(20.0, (0, 0)),\n",
       " (20.0, (0, 44)),\n",
       " (20.0, (0, 93)),\n",
       " (20.0, (44, 0)),\n",
       " (14.0, (55, 37)),\n",
       " (8.0, (31, 81)),\n",
       " (13.0, (56, 86)),\n",
       " (20.0, (93, 0)),\n",
       " (23.0, (96, 46))]"
      ]
     },
     "execution_count": 40,
     "metadata": {},
     "output_type": "execute_result"
    }
   ],
   "source": [
    "mxs"
   ]
  },
  {
   "cell_type": "code",
   "execution_count": 41,
   "metadata": {},
   "outputs": [
    {
     "data": {
      "text/plain": [
       "[(23.0, (96, 46)),\n",
       " (20.0, (0, 0)),\n",
       " (20.0, (0, 44)),\n",
       " (20.0, (0, 93)),\n",
       " (20.0, (44, 0)),\n",
       " (20.0, (93, 0)),\n",
       " (14.0, (55, 37)),\n",
       " (13.0, (56, 86)),\n",
       " (8.0, (31, 81))]"
      ]
     },
     "execution_count": 41,
     "metadata": {},
     "output_type": "execute_result"
    }
   ],
   "source": [
    "mxs.sort(key=lambda x:x[0], reverse=True)\n",
    "mxs"
   ]
  },
  {
   "cell_type": "code",
   "execution_count": 51,
   "metadata": {},
   "outputs": [],
   "source": [
    "dists, coords = zip(*mxs)\n",
    "dists=np.asarray(dists)\n",
    "coords=np.asarray(coords)"
   ]
  },
  {
   "cell_type": "markdown",
   "metadata": {},
   "source": [
    "# alternative faster calculation"
   ]
  },
  {
   "cell_type": "code",
   "execution_count": 54,
   "metadata": {},
   "outputs": [
    {
     "data": {
      "text/plain": [
       "[(20.0, (0, 0)),\n",
       " (20.0, (0, 44)),\n",
       " (20.0, (0, 93)),\n",
       " (20.0, (44, 0)),\n",
       " (14.0, (55, 37)),\n",
       " (8.0, (31, 81)),\n",
       " (13.0, (56, 86)),\n",
       " (20.0, (93, 0)),\n",
       " (23.0, (96, 46))]"
      ]
     },
     "execution_count": 54,
     "metadata": {},
     "output_type": "execute_result"
    }
   ],
   "source": [
    "\n",
    "dist = scipy.ndimage.morphology.distance_transform_edt(mask)\n",
    "mxs = [None] * (np.max(lab)-1)\n",
    "for l in range(1, np.max(lab)):\n",
    "    dist_i = dist.copy()\n",
    "    dist_i[lab!=l] = 0\n",
    "#     if l == 0:\n",
    "#         mxs[l] = (l,())\n",
    "#         continue\n",
    "#     dist_i = scipy.ndimage.morphology.distance_transform_edt(lab == l)\n",
    "    mx = np.max(dist_i)\n",
    "    xyz = np.unravel_index(np.argmax(dist_i), shape = lab.shape)\n",
    "    mxs[l-1] = (mx, xyz)\n",
    "#     print(xyz)\n",
    "mxs"
   ]
  },
  {
   "cell_type": "code",
   "execution_count": null,
   "metadata": {},
   "outputs": [],
   "source": [
    "def find_maxdist_in_labeled_image(mask:np.ndarray):\n",
    "    \"\"\"\n",
    "    Find biggest labeled areas in sense of distance from the border\n",
    "    :param lab:\n",
    "    :return: dists, coords\n",
    "    \"\"\"\n",
    "\n",
    "    lab = skimage.morphology.label(mask)\n",
    "    dist = scipy.ndimage.morphology.distance_transform_edt(mask)\n",
    "    mxs = [None] * (np.max(lab)-1)\n",
    "    for l in range(1, np.max(lab)):\n",
    "        dist_i = dist.copy()\n",
    "        dist_i[lab != l] = 0\n",
    "        # if l == 0:\n",
    "        #     mxs[l] = (l, ())\n",
    "        #     continue\n",
    "        # dist_i = scipy.ndimage.morphology.distance_transform_edt(lab == l)\n",
    "        mx = np.max(dist_i)\n",
    "        xyz = np.unravel_index(np.argmax(dist_i), shape=lab.shape)\n",
    "        mxs[l-1] = (mx, xyz)\n",
    "\n",
    "\n",
    "    mxs.sort(key=lambda x:x[0], reverse=True)\n",
    "\n",
    "    dists, coords = zip(*mxs)\n",
    "    dists = np.asarray(dists)\n",
    "    coords = np.asarray(coords)\n",
    "    return dists, coords"
   ]
  },
  {
   "cell_type": "markdown",
   "metadata": {},
   "source": [
    "# Kick closest"
   ]
  },
  {
   "cell_type": "code",
   "execution_count": 56,
   "metadata": {},
   "outputs": [
    {
     "data": {
      "text/plain": [
       "array([[96, 46],\n",
       "       [ 0,  0],\n",
       "       [ 0, 44],\n",
       "       [ 0, 93],\n",
       "       [44,  0],\n",
       "       [93,  0],\n",
       "       [55, 37],\n",
       "       [56, 86],\n",
       "       [31, 81]], dtype=int64)"
      ]
     },
     "execution_count": 56,
     "metadata": {},
     "output_type": "execute_result"
    }
   ],
   "source": [
    "coords"
   ]
  },
  {
   "cell_type": "code",
   "execution_count": 78,
   "metadata": {},
   "outputs": [
    {
     "name": "stdout",
     "output_type": "stream",
     "text": [
      "[106.45186706  96.02083107 106.88779163  69.42621983  46.09772229\n",
      "  41.97618372  56.56854249  73.8241153 ]\n",
      "[ 44.          93.          44.          93.          66.28725368\n",
      " 102.62553289  86.72946443]\n",
      "[ 49.          62.22539674 102.88342918  55.4436651   70.\n",
      "  48.27007354]\n",
      "[102.88342918 131.5218613   78.49203781  56.43580424  33.24154028]\n",
      "[49.         38.60051813 86.83317338 82.03657721]\n",
      "[ 53.03772242  93.62157871 102.00490184]\n",
      "[49.01020302 50.11985634]\n",
      "[25.49509757]\n"
     ]
    },
    {
     "data": {
      "text/plain": [
       "array([[96, 46],\n",
       "       [ 0,  0],\n",
       "       [ 0, 44],\n",
       "       [ 0, 93],\n",
       "       [44,  0],\n",
       "       [93,  0],\n",
       "       [55, 37],\n",
       "       [56, 86]], dtype=int64)"
      ]
     },
     "execution_count": 78,
     "metadata": {},
     "output_type": "execute_result"
    }
   ],
   "source": [
    "min_dist = 3\n",
    "\n",
    "selected = []\n",
    "for i in range(coords.shape[0] - 1):\n",
    "    dists = np.linalg.norm((coords[i + 1:,:] - coords[i,:]), axis=1)\n",
    "    print(dists)\n",
    "    if (dists > min_dist).all():\n",
    "        selected.append(coords[i,:])\n",
    "    else:\n",
    "        print(f\"kicked {coords[i,:]}\")\n",
    "        \n",
    "selected = np.asarray(selected)\n",
    "selected"
   ]
  },
  {
   "cell_type": "code",
   "execution_count": 86,
   "metadata": {},
   "outputs": [
    {
     "data": {
      "text/plain": [
       "[<matplotlib.lines.Line2D at 0x24a422bc4e0>]"
      ]
     },
     "execution_count": 86,
     "metadata": {},
     "output_type": "execute_result"
    },
    {
     "data": {
      "image/png": "[encoded data removed]",
      "text/plain": [
       "<Figure size 432x288 with 1 Axes>"
      ]
     },
     "metadata": {
      "needs_background": "light"
     },
     "output_type": "display_data"
    }
   ],
   "source": [
    "imshow(mask)\n",
    "plt.plot(coords[:,1], coords[:,0], 'gx')\n",
    "plt.plot(selected[:,1], selected[:,0], 'ro')"
   ]
  }
 ],
 "metadata": {
  "kernelspec": {
   "display_name": "Python 3",
   "language": "python",
   "name": "python3"
  },
  "language_info": {
   "codemirror_mode": {
    "name": "ipython",
    "version": 3
   },
   "file_extension": ".py",
   "mimetype": "text/x-python",
   "name": "python",
   "nbconvert_exporter": "python",
   "pygments_lexer": "ipython3",
   "version": "3.6.6"
  },
  "toc": {
   "base_numbering": 1,
   "nav_menu": {},
   "number_sections": true,
   "sideBar": true,
   "skip_h1_title": false,
   "title_cell": "Table of Contents",
   "title_sidebar": "Contents",
   "toc_cell": false,
   "toc_position": {},
   "toc_section_display": true,
   "toc_window_display": true
  }
 },
 "nbformat": 4,
 "nbformat_minor": 2
}
