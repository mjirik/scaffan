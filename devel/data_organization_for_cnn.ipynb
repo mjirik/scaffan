{
 "cells": [
  {
   "cell_type": "markdown",
   "metadata": {},
   "source": [
    "# Prepare data for CNN\n",
    "\n",
    "Data are stored in output dir. We need to extract just labeled images and input texture."
   ]
  },
  {
   "cell_type": "code",
   "execution_count": 33,
   "metadata": {},
   "outputs": [],
   "source": [
    "from pathlib import Path\n",
    "import glob\n",
    "import shutil\n",
    "import os\n",
    "\n",
    "scaffan_output_dir = r\"C:\\Users\\Jirik\\data\\medical\\processed\\SA_20191103-223709_slide_segmentation\"\n",
    "odir = Path(scaffan_output_dir + \"_cnn\")\n",
    "sopath = Path(scaffan_output_dir)"
   ]
  },
  {
   "cell_type": "code",
   "execution_count": 7,
   "metadata": {},
   "outputs": [],
   "source": []
  },
  {
   "cell_type": "code",
   "execution_count": 50,
   "metadata": {},
   "outputs": [],
   "source": [
    "\n",
    "def put_files_together_and_rename(fns, odir:Path):\n",
    "    \"\"\"\n",
    "    Put all files in one directory and change their names according to origin parent\n",
    "    \n",
    "    fns: list of filenames i.e. from glob.glob()\n",
    "    odir: output directory\n",
    "    \n",
    "    \"\"\"\n",
    "    os.makedirs(odir, exist_ok=True)\n",
    "\n",
    "    for fn in fns:\n",
    "        fn = Path(fn)\n",
    "        ofn = odir / (fn.stem + \"_\" + fn.parent.name + fn.suffix)\n",
    "        if not ofn.exists():\n",
    "            shutil.copy(fn, ofn)\n",
    "        else:\n",
    "            print(f\"File '{str(ofn.name)}' exists\")   \n",
    "    \n",
    "    \n"
   ]
  },
  {
   "cell_type": "markdown",
   "metadata": {},
   "source": [
    "## Do the work\n",
    "\n",
    "Put all files together"
   ]
  },
  {
   "cell_type": "code",
   "execution_count": null,
   "metadata": {},
   "outputs": [],
   "source": [
    "\n",
    "slice_labels_path = sopath / \"*/slice_label.png\"\n",
    "fns = glob.glob(str(slice_labels_path))\n",
    "put_files_together_and_rename(fns, odir)\n",
    "\n",
    "slice_labels_path = sopath / \"*/slice_raster.png\"\n",
    "fns = glob.glob(str(slice_labels_path))\n",
    "put_files_together_and_rename(fns, odir)\n"
   ]
  }
 ],
 "metadata": {
  "kernelspec": {
   "display_name": "Python 3",
   "language": "python",
   "name": "python3"
  },
  "language_info": {
   "codemirror_mode": {
    "name": "ipython",
    "version": 3
   },
   "file_extension": ".py",
   "mimetype": "text/x-python",
   "name": "python",
   "nbconvert_exporter": "python",
   "pygments_lexer": "ipython3",
   "version": "3.6.6"
  },
  "toc": {
   "base_numbering": 1,
   "nav_menu": {},
   "number_sections": true,
   "sideBar": true,
   "skip_h1_title": false,
   "title_cell": "Table of Contents",
   "title_sidebar": "Contents",
   "toc_cell": false,
   "toc_position": {},
   "toc_section_display": true,
   "toc_window_display": true
  }
 },
 "nbformat": 4,
 "nbformat_minor": 2
}
