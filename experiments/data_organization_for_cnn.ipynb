{
 "cells": [
  {
   "cell_type": "markdown",
   "metadata": {},
   "source": [
    "# Prepare data for CNN\n",
    "\n",
    "Data are stored in output dir. We need to extract just labeled images and input texture."
   ]
  },
  {
   "cell_type": "code",
   "execution_count": 35,
   "metadata": {},
   "outputs": [],
   "source": [
    "from pathlib import Path\n",
    "import glob\n",
    "import shutil\n",
    "import os\n",
    "\n",
    "scaffan_output_dir = r\"C:\\Users\\Jirik\\data\\medical\\processed\\SA_20191103-223709_slide_segmentation\"\n",
    "scaffan_output_dir = r\"C:\\Users\\Jirik\\data\\medical\\processed\\SA_20200116-115347_slide_segmentation\"\n",
    "scaffan_output_dir = r\"C:\\Users\\Jirik\\data\\medical\\processed\\SA_20200117-112201_slide_segmentation\"\n",
    "scaffan_output_dir = r\"C:\\Users\\Jirik\\data\\medical\\processed\\SA_20200121-213708_slide_segmentation\"\n",
    "scaffan_output_dir = r\"C:\\Users\\Jirik\\data\\medical\\processed\\SA_20200122-072506_slide_segmentation\"\n",
    "odir = Path(scaffan_output_dir + \"_cnn\")\n",
    "sopath = Path(scaffan_output_dir)"
   ]
  },
  {
   "cell_type": "code",
   "execution_count": null,
   "metadata": {},
   "outputs": [],
   "source": []
  },
  {
   "cell_type": "code",
   "execution_count": 36,
   "metadata": {},
   "outputs": [],
   "source": [
    "\n",
    "def put_files_together_and_rename(fns, odir:Path):\n",
    "    \"\"\"\n",
    "    Put all files in one directory and change their names according to origin parent\n",
    "    \n",
    "    fns: list of filenames i.e. from glob.glob()\n",
    "    odir: output directory\n",
    "    \n",
    "    \"\"\"\n",
    "    os.makedirs(odir, exist_ok=True)\n",
    "\n",
    "    for fn in fns:\n",
    "        fn = Path(fn)\n",
    "        ofn = odir / (fn.stem + \"_\" + fn.parent.name + fn.suffix)\n",
    "        if not ofn.exists():\n",
    "            shutil.copy(fn, ofn)\n",
    "        else:\n",
    "            print(f\"File '{str(ofn.name)}' exists\")   \n",
    "    \n",
    "    \n"
   ]
  },
  {
   "cell_type": "code",
   "execution_count": null,
   "metadata": {},
   "outputs": [],
   "source": []
  },
  {
   "cell_type": "markdown",
   "metadata": {},
   "source": [
    "## Do the work\n",
    "\n",
    "Put all files together"
   ]
  },
  {
   "cell_type": "code",
   "execution_count": 37,
   "metadata": {},
   "outputs": [
    {
     "name": "stdout",
     "output_type": "stream",
     "text": [
      "File 'slice_label_PIG-001_J-17-0569_LM_HE.png' exists\n",
      "File 'slice_label_PIG-001_J-17-0571_LM central_HE.png' exists\n",
      "File 'slice_label_PIG-002_J-18-0091_HE.png' exists\n",
      "File 'slice_label_PIG-002_J-18-0092_HE.png' exists\n",
      "File 'slice_label_PIG-002_J-18-0094_HE_rescan.png' exists\n",
      "File 'slice_label_PIG-003_J-18-0165_HE.png' exists\n",
      "File 'slice_label_PIG-003_J-18-0166_HE.png' exists\n",
      "File 'slice_label_PIG-003_J-18-0167_HE.png' exists\n",
      "File 'slice_label_PIG-003_J-18-0168_HE.png' exists\n",
      "File 'slice_label_PIG-003_J-18-0169_HE.png' exists\n",
      "File 'slice_label_PIG-003_J-18-0170_HE.png' exists\n",
      "File 'slice_label_PIG-004_BBJ-004-2 _HE_parenchyme.png' exists\n",
      "File 'slice_label_PIG-004_BBJ-004-3 _HE_parenchyme.png' exists\n",
      "File 'slice_label_PIG-004_BBJ-004-4_HE_parenchyme.png' exists\n",
      "File 'slice_label_PIG-005_J-18-0630_HE_LLL per decell.png' exists\n",
      "File 'slice_label_PIG-005_J-18-0631_HE_LML per decell.png' exists\n",
      "File 'slice_label_PIG-005_J-18-0633_HE_PRML per decell.png' exists\n",
      "File 'slice_label_PIG-008_P008 LL-C_HE_parenchyme centr.png' exists\n",
      "File 'slice_label_PIG-008_P008 LL-P_HE_parenchyme perif.png' exists\n",
      "File 'slice_label_Pig-009_Pilsen_HE_009-LM-P.png' exists\n",
      "File 'slice_label_Pig-009_Pilsen_HE_009-RL-C (1).png' exists\n",
      "File 'slice_label_Pig-010_Pilsen_HE_LL-P (1).png' exists\n",
      "File 'slice_label_Pig-010_Pilsen_HE_RM-P (1).png' exists\n",
      "File 'slice_label_Pig-011_Pilsen_HE_LL-P (1).png' exists\n",
      "File 'slice_label_Pig-011_Pilsen_HE_RM-P (1).png' exists\n",
      "File 'slice_label_PIG-012_Pilsen_HE_LLP (1).png' exists\n",
      "File 'slice_label_PIG-012_Pilsen_HE_LMC (1).png' exists\n",
      "File 'slice_label_Pig-013_Pilsen_HE_013-LL-C (1).png' exists\n",
      "File 'slice_label_Pig-013_Pilsen_HE_013-LL-P.png' exists\n",
      "File 'slice_label_Pig-014_Pilsen_HE_LM-P.png' exists\n",
      "File 'slice_label_Pig-014_Pilsen_HE_RL-C.png' exists\n",
      "File 'slice_label_Pilsen_Pig-015_HE_RLP_7.png' exists\n",
      "File 'slice_label_Pilsen_Pig-015_HE_RMP_4.png' exists\n",
      "File 'slice_raster_PIG-001_J-17-0569_LM_HE.png' exists\n",
      "File 'slice_raster_PIG-001_J-17-0571_LM central_HE.png' exists\n",
      "File 'slice_raster_PIG-002_J-18-0091_HE.png' exists\n",
      "File 'slice_raster_PIG-002_J-18-0092_HE.png' exists\n",
      "File 'slice_raster_PIG-002_J-18-0094_HE_rescan.png' exists\n",
      "File 'slice_raster_PIG-003_J-18-0165_HE.png' exists\n",
      "File 'slice_raster_PIG-003_J-18-0166_HE.png' exists\n",
      "File 'slice_raster_PIG-003_J-18-0167_HE.png' exists\n",
      "File 'slice_raster_PIG-003_J-18-0168_HE.png' exists\n",
      "File 'slice_raster_PIG-003_J-18-0169_HE.png' exists\n",
      "File 'slice_raster_PIG-003_J-18-0170_HE.png' exists\n",
      "File 'slice_raster_PIG-004_BBJ-004-2 _HE_parenchyme.png' exists\n",
      "File 'slice_raster_PIG-004_BBJ-004-3 _HE_parenchyme.png' exists\n",
      "File 'slice_raster_PIG-004_BBJ-004-4_HE_parenchyme.png' exists\n",
      "File 'slice_raster_PIG-005_J-18-0630_HE_LLL per decell.png' exists\n",
      "File 'slice_raster_PIG-005_J-18-0631_HE_LML per decell.png' exists\n",
      "File 'slice_raster_PIG-005_J-18-0633_HE_PRML per decell.png' exists\n",
      "File 'slice_raster_PIG-008_P008 LL-C_HE_parenchyme centr.png' exists\n",
      "File 'slice_raster_PIG-008_P008 LL-P_HE_parenchyme perif.png' exists\n",
      "File 'slice_raster_Pig-009_Pilsen_HE_009-LM-P.png' exists\n",
      "File 'slice_raster_Pig-009_Pilsen_HE_009-RL-C (1).png' exists\n",
      "File 'slice_raster_Pig-010_Pilsen_HE_LL-P (1).png' exists\n",
      "File 'slice_raster_Pig-010_Pilsen_HE_RM-P (1).png' exists\n",
      "File 'slice_raster_Pig-011_Pilsen_HE_LL-P (1).png' exists\n",
      "File 'slice_raster_Pig-011_Pilsen_HE_RM-P (1).png' exists\n",
      "File 'slice_raster_PIG-012_Pilsen_HE_LLP (1).png' exists\n",
      "File 'slice_raster_PIG-012_Pilsen_HE_LMC (1).png' exists\n",
      "File 'slice_raster_Pig-013_Pilsen_HE_013-LL-C (1).png' exists\n",
      "File 'slice_raster_Pig-013_Pilsen_HE_013-LL-P.png' exists\n",
      "File 'slice_raster_Pig-014_Pilsen_HE_LM-P.png' exists\n",
      "File 'slice_raster_Pig-014_Pilsen_HE_RL-C.png' exists\n",
      "File 'slice_raster_Pilsen_Pig-015_HE_RLP_7.png' exists\n",
      "File 'slice_raster_Pilsen_Pig-015_HE_RMP_4.png' exists\n"
     ]
    }
   ],
   "source": [
    "slice_labels_path = sopath / \"*/slice_label.png\"\n",
    "fns = glob.glob(str(slice_labels_path))\n",
    "put_files_together_and_rename(fns, odir)\n",
    "\n",
    "slice_labels_path = sopath / \"*/slice_raster.png\"\n",
    "fns = glob.glob(str(slice_labels_path))\n",
    "put_files_together_and_rename(fns, odir)"
   ]
  },
  {
   "cell_type": "code",
   "execution_count": 38,
   "metadata": {},
   "outputs": [],
   "source": [
    "slice_labels_path = sopath / \"*/data.xlsx\"\n",
    "fns = glob.glob(str(slice_labels_path))\n",
    "ofnx = odir / \"data.xlsx\"\n",
    "# put_files_together_and_rename(fns, odir)\n",
    "import pandas as pd\n",
    "import exsu\n",
    "if not ofnx.exists():\n",
    "    for fnx in fns:\n",
    "        df = pd.read_excel(fnx)\n",
    "        exsu.report.append_df_to_excel(ofnx, df)"
   ]
  },
  {
   "cell_type": "code",
   "execution_count": 39,
   "metadata": {},
   "outputs": [],
   "source": [
    "fn = sopath / \"scaffan.log\"\n",
    "ofn = odir / \"scaffan.log\"\n",
    "if not ofn.exists():\n",
    "    shutil.copy(fn, ofn)"
   ]
  }
 ],
 "metadata": {
  "kernelspec": {
   "display_name": "Python 3",
   "language": "python",
   "name": "python3"
  },
  "language_info": {
   "codemirror_mode": {
    "name": "ipython",
    "version": 3
   },
   "file_extension": ".py",
   "mimetype": "text/x-python",
   "name": "python",
   "nbconvert_exporter": "python",
   "pygments_lexer": "ipython3",
   "version": "3.6.6"
  },
  "toc": {
   "base_numbering": 1,
   "nav_menu": {},
   "number_sections": true,
   "sideBar": true,
   "skip_h1_title": false,
   "title_cell": "Table of Contents",
   "title_sidebar": "Contents",
   "toc_cell": false,
   "toc_position": {},
   "toc_section_display": true,
   "toc_window_display": true
  }
 },
 "nbformat": 4,
 "nbformat_minor": 2
}
