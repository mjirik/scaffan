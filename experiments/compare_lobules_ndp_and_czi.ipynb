{
 "cells": [
  {
   "cell_type": "code",
   "execution_count": 164,
   "metadata": {},
   "outputs": [],
   "source": [
    "import pandas as pd\n",
    "import seaborn as sns\n",
    "import numpy as np\n",
    "import matplotlib.pyplot as plt\n",
    "dfr = pd.read_excel(r\"C:/Users/Jirik/data/SA_data.xlsx\")"
   ]
  },
  {
   "cell_type": "code",
   "execution_count": 165,
   "metadata": {},
   "outputs": [
    {
     "data": {
      "text/plain": [
       "array([nan, '2019-10-21 15:43:20', '2019-10-22 20:32:18',\n",
       "       '2019-10-22 21:25:45', '2019-10-22 21:56:19',\n",
       "       '2019-10-22 22:01:16', '2019-10-22 22:42:08',\n",
       "       '2019-10-22 22:47:07', '2019-10-26 11:29:49',\n",
       "       '2019-10-26 11:31:38', '2019-10-26 17:04:17',\n",
       "       '2019-10-26 17:19:22', '2019-10-27 00:44:44',\n",
       "       '2019-10-27 00:49:37', '2019-10-28 10:35:37',\n",
       "       '2019-10-28 11:08:19', '2019-10-31 10:27:05',\n",
       "       '2019-10-31 10:51:15', '2019-10-31 11:00:19',\n",
       "       '2019-10-31 15:57:08', '2019-10-31 16:10:53',\n",
       "       '2019-10-31 16:39:41', '2019-10-31 16:45:20',\n",
       "       '2019-11-01 15:15:39', '2019-11-01 15:19:37',\n",
       "       '2019-11-01 20:03:12', '2019-11-01 21:26:44',\n",
       "       '2019-11-02 07:29:08', '2019-11-02 07:59:34',\n",
       "       '2019-11-02 08:06:34', '2019-11-02 23:13:08',\n",
       "       '2019-11-02 23:21:11', '2019-11-03 07:54:27',\n",
       "       '2019-11-03 22:37:09', '2019-11-05 22:37:57',\n",
       "       '2020-01-15 23:26:52', '2020-01-15 23:39:21',\n",
       "       '2020-01-16 11:46:55', '2020-01-16 11:53:47',\n",
       "       '2020-01-16 17:54:24', '2020-01-17 08:17:08',\n",
       "       '2020-01-17 10:39:08', '2020-01-17 11:22:01',\n",
       "       '2020-01-17 12:11:11', '2020-01-17 12:18:53',\n",
       "       '2020-01-21 15:11:05', '2020-01-21 21:37:08',\n",
       "       '2020-01-21 23:03:40', '2020-01-22 07:25:06',\n",
       "       '2020-01-28 10:25:02', '2020-05-27 12:03:07',\n",
       "       '2020-05-27 18:42:34', '2020-05-27 22:53:53'], dtype=object)"
      ]
     },
     "execution_count": 165,
     "metadata": {},
     "output_type": "execute_result"
    }
   ],
   "source": [
    "\n",
    "dtu = dfr[\"Experiment Datetime\"].unique()\n",
    "dtu"
   ]
  },
  {
   "cell_type": "code",
   "execution_count": 166,
   "metadata": {},
   "outputs": [
    {
     "data": {
      "text/plain": [
       "'2020-05-27 22:53:53'"
      ]
     },
     "execution_count": 166,
     "metadata": {},
     "output_type": "execute_result"
    }
   ],
   "source": [
    "selected_dt  =\"2020-05-27 12:03:07\"\n",
    "selected_dt = dtu[-1]\n",
    "df = dfr[dfr[\"Experiment Datetime\"] == selected_dt]\n",
    "selected_dt\n",
    "# df[\"Experiment Datetime\"]"
   ]
  },
  {
   "cell_type": "markdown",
   "metadata": {},
   "source": [
    "# Looking for pairs"
   ]
  },
  {
   "cell_type": "code",
   "execution_count": 167,
   "metadata": {},
   "outputs": [
    {
     "data": {
      "text/html": [
       "<div>\n",
       "<style scoped>\n",
       "    .dataframe tbody tr th:only-of-type {\n",
       "        vertical-align: middle;\n",
       "    }\n",
       "\n",
       "    .dataframe tbody tr th {\n",
       "        vertical-align: top;\n",
       "    }\n",
       "\n",
       "    .dataframe thead th {\n",
       "        text-align: right;\n",
       "    }\n",
       "</style>\n",
       "<table border=\"1\" class=\"dataframe\">\n",
       "  <thead>\n",
       "    <tr style=\"text-align: right;\">\n",
       "      <th></th>\n",
       "      <th>File Name</th>\n",
       "      <th>Annotation Center X [mm]</th>\n",
       "      <th>Annotation Center Y [mm]</th>\n",
       "      <th>Annotation ID</th>\n",
       "      <th>Area</th>\n",
       "      <th>Branch number</th>\n",
       "      <th>Central Vein Dice</th>\n",
       "      <th>Central Vein Jaccard</th>\n",
       "      <th>Central vein area</th>\n",
       "      <th>Dead ends number</th>\n",
       "      <th>...</th>\n",
       "      <th>Processing;Texture Analysis;Tile Spacing</th>\n",
       "      <th>Processing;Texture Analysis;Working Resolution</th>\n",
       "      <th>Processing;Whole Scan Margin</th>\n",
       "      <th>Scan Segmentation Empty Area [mm^2]</th>\n",
       "      <th>Scan Segmentation Septum Area [mm^2]</th>\n",
       "      <th>Scan Segmentation Sinusoidal Area [mm^2]</th>\n",
       "      <th>Scan Segmentation Used Pixelsize [mm]</th>\n",
       "      <th>Skeleton length</th>\n",
       "      <th>profile unet cumulative get_region_image time [s]</th>\n",
       "      <th>profile unet cumulative prediction time [s]</th>\n",
       "    </tr>\n",
       "  </thead>\n",
       "  <tbody>\n",
       "    <tr>\n",
       "      <th>0</th>\n",
       "      <td>05_2019_11_12__-1-2.czi</td>\n",
       "      <td>-1.497896</td>\n",
       "      <td>-0.561236</td>\n",
       "      <td>9.500000</td>\n",
       "      <td>0.877946</td>\n",
       "      <td>22560.500000</td>\n",
       "      <td>NaN</td>\n",
       "      <td>NaN</td>\n",
       "      <td>0.030098</td>\n",
       "      <td>1713.0</td>\n",
       "      <td>...</td>\n",
       "      <td>NaN</td>\n",
       "      <td>NaN</td>\n",
       "      <td>0.0</td>\n",
       "      <td>49.440404</td>\n",
       "      <td>23.889523</td>\n",
       "      <td>36.421870</td>\n",
       "      <td>0.007027</td>\n",
       "      <td>48.078182</td>\n",
       "      <td>52.860750</td>\n",
       "      <td>73.024806</td>\n",
       "    </tr>\n",
       "    <tr>\n",
       "      <th>1</th>\n",
       "      <td>PIG-003_J-18-0165_HE.ndpi</td>\n",
       "      <td>7.120836</td>\n",
       "      <td>-1.661185</td>\n",
       "      <td>7.666667</td>\n",
       "      <td>0.793383</td>\n",
       "      <td>19601.166667</td>\n",
       "      <td>1.0</td>\n",
       "      <td>1.0</td>\n",
       "      <td>0.031227</td>\n",
       "      <td>1815.5</td>\n",
       "      <td>...</td>\n",
       "      <td>NaN</td>\n",
       "      <td>NaN</td>\n",
       "      <td>0.0</td>\n",
       "      <td>72.039471</td>\n",
       "      <td>20.068190</td>\n",
       "      <td>40.716001</td>\n",
       "      <td>0.007272</td>\n",
       "      <td>39.858910</td>\n",
       "      <td>1.755781</td>\n",
       "      <td>81.737620</td>\n",
       "    </tr>\n",
       "  </tbody>\n",
       "</table>\n",
       "<p>2 rows × 101 columns</p>\n",
       "</div>"
      ],
      "text/plain": [
       "                   File Name  Annotation Center X [mm]  \\\n",
       "0    05_2019_11_12__-1-2.czi                 -1.497896   \n",
       "1  PIG-003_J-18-0165_HE.ndpi                  7.120836   \n",
       "\n",
       "   Annotation Center Y [mm]  Annotation ID      Area  Branch number  \\\n",
       "0                 -0.561236       9.500000  0.877946   22560.500000   \n",
       "1                 -1.661185       7.666667  0.793383   19601.166667   \n",
       "\n",
       "   Central Vein Dice  Central Vein Jaccard  Central vein area  \\\n",
       "0                NaN                   NaN           0.030098   \n",
       "1                1.0                   1.0           0.031227   \n",
       "\n",
       "   Dead ends number  ...  Processing;Texture Analysis;Tile Spacing  \\\n",
       "0            1713.0  ...                                       NaN   \n",
       "1            1815.5  ...                                       NaN   \n",
       "\n",
       "   Processing;Texture Analysis;Working Resolution  \\\n",
       "0                                             NaN   \n",
       "1                                             NaN   \n",
       "\n",
       "   Processing;Whole Scan Margin  Scan Segmentation Empty Area [mm^2]  \\\n",
       "0                           0.0                            49.440404   \n",
       "1                           0.0                            72.039471   \n",
       "\n",
       "   Scan Segmentation Septum Area [mm^2]  \\\n",
       "0                             23.889523   \n",
       "1                             20.068190   \n",
       "\n",
       "   Scan Segmentation Sinusoidal Area [mm^2]  \\\n",
       "0                                 36.421870   \n",
       "1                                 40.716001   \n",
       "\n",
       "   Scan Segmentation Used Pixelsize [mm]  Skeleton length  \\\n",
       "0                               0.007027        48.078182   \n",
       "1                               0.007272        39.858910   \n",
       "\n",
       "   profile unet cumulative get_region_image time [s]  \\\n",
       "0                                          52.860750   \n",
       "1                                           1.755781   \n",
       "\n",
       "   profile unet cumulative prediction time [s]  \n",
       "0                                    73.024806  \n",
       "1                                    81.737620  \n",
       "\n",
       "[2 rows x 101 columns]"
      ]
     },
     "execution_count": 167,
     "metadata": {},
     "output_type": "execute_result"
    }
   ],
   "source": [
    "dfmean=df.groupby(by=\"File Name\",as_index=False).mean()\n",
    "dfmean"
   ]
  },
  {
   "cell_type": "code",
   "execution_count": 168,
   "metadata": {},
   "outputs": [
    {
     "data": {
      "text/html": [
       "<div>\n",
       "<style scoped>\n",
       "    .dataframe tbody tr th:only-of-type {\n",
       "        vertical-align: middle;\n",
       "    }\n",
       "\n",
       "    .dataframe tbody tr th {\n",
       "        vertical-align: top;\n",
       "    }\n",
       "\n",
       "    .dataframe thead th {\n",
       "        text-align: right;\n",
       "    }\n",
       "</style>\n",
       "<table border=\"1\" class=\"dataframe\">\n",
       "  <thead>\n",
       "    <tr style=\"text-align: right;\">\n",
       "      <th></th>\n",
       "      <th>Annotation Center X [mm] relative</th>\n",
       "      <th>Annotation Center Y [mm] relative</th>\n",
       "    </tr>\n",
       "  </thead>\n",
       "  <tbody>\n",
       "    <tr>\n",
       "      <th>0</th>\n",
       "      <td>-0.698981</td>\n",
       "      <td>-0.967007</td>\n",
       "    </tr>\n",
       "    <tr>\n",
       "      <th>1</th>\n",
       "      <td>1.436557</td>\n",
       "      <td>-1.968404</td>\n",
       "    </tr>\n",
       "    <tr>\n",
       "      <th>2</th>\n",
       "      <td>-0.288665</td>\n",
       "      <td>0.412296</td>\n",
       "    </tr>\n",
       "    <tr>\n",
       "      <th>3</th>\n",
       "      <td>3.027378</td>\n",
       "      <td>0.340458</td>\n",
       "    </tr>\n",
       "    <tr>\n",
       "      <th>4</th>\n",
       "      <td>-1.367693</td>\n",
       "      <td>0.459474</td>\n",
       "    </tr>\n",
       "    <tr>\n",
       "      <th>5</th>\n",
       "      <td>-2.108596</td>\n",
       "      <td>1.723182</td>\n",
       "    </tr>\n",
       "    <tr>\n",
       "      <th>6</th>\n",
       "      <td>1.405265</td>\n",
       "      <td>-1.951661</td>\n",
       "    </tr>\n",
       "    <tr>\n",
       "      <th>7</th>\n",
       "      <td>-0.654139</td>\n",
       "      <td>-1.017943</td>\n",
       "    </tr>\n",
       "    <tr>\n",
       "      <th>8</th>\n",
       "      <td>3.017761</td>\n",
       "      <td>0.222132</td>\n",
       "    </tr>\n",
       "    <tr>\n",
       "      <th>9</th>\n",
       "      <td>-0.218695</td>\n",
       "      <td>0.465060</td>\n",
       "    </tr>\n",
       "    <tr>\n",
       "      <th>10</th>\n",
       "      <td>-1.355835</td>\n",
       "      <td>0.532005</td>\n",
       "    </tr>\n",
       "    <tr>\n",
       "      <th>11</th>\n",
       "      <td>-2.194357</td>\n",
       "      <td>1.750407</td>\n",
       "    </tr>\n",
       "  </tbody>\n",
       "</table>\n",
       "</div>"
      ],
      "text/plain": [
       "    Annotation Center X [mm] relative  Annotation Center Y [mm] relative\n",
       "0                           -0.698981                          -0.967007\n",
       "1                            1.436557                          -1.968404\n",
       "2                           -0.288665                           0.412296\n",
       "3                            3.027378                           0.340458\n",
       "4                           -1.367693                           0.459474\n",
       "5                           -2.108596                           1.723182\n",
       "6                            1.405265                          -1.951661\n",
       "7                           -0.654139                          -1.017943\n",
       "8                            3.017761                           0.222132\n",
       "9                           -0.218695                           0.465060\n",
       "10                          -1.355835                           0.532005\n",
       "11                          -2.194357                           1.750407"
      ]
     },
     "execution_count": 168,
     "metadata": {},
     "output_type": "execute_result"
    }
   ],
   "source": [
    "df1 = pd.merge(\n",
    "    df,\n",
    "    dfmean[[\"File Name\", \"Annotation ID\", \"Annotation Center X [mm]\", \"Annotation Center Y [mm]\"]], \n",
    "    on=[\"File Name\"], how=\"outer\", suffixes=(\"\",\" mean\"))\n",
    "\n",
    "df1[\"Annotation Center X [mm] relative\"] = df1[\"Annotation Center X [mm]\"] - df1[\"Annotation Center X [mm] mean\"]\n",
    "df1[\"Annotation Center Y [mm] relative\"] = df1[\"Annotation Center Y [mm]\"] - df1[\"Annotation Center Y [mm] mean\"]\n",
    "df1[[\"Annotation Center X [mm] relative\", \"Annotation Center Y [mm] relative\"]]"
   ]
  },
  {
   "cell_type": "markdown",
   "metadata": {},
   "source": [
    "## Visualization of points"
   ]
  },
  {
   "cell_type": "code",
   "execution_count": 169,
   "metadata": {},
   "outputs": [
    {
     "data": {
      "text/plain": [
       "<matplotlib.axes._subplots.AxesSubplot at 0x1a0b2bd8438>"
      ]
     },
     "execution_count": 169,
     "metadata": {},
     "output_type": "execute_result"
    },
    {
     "data": {
      "image/png": "[encoded data removed]",
      "text/plain": [
       "<Figure size 432x288 with 1 Axes>"
      ]
     },
     "metadata": {
      "needs_background": "light"
     },
     "output_type": "display_data"
    }
   ],
   "source": [
    "sns.scatterplot(data=df1, x=\"Annotation Center X [mm] relative\", y=\"Annotation Center Y [mm] relative\", hue=\"File Name\")\n"
   ]
  },
  {
   "cell_type": "markdown",
   "metadata": {},
   "source": [
    "## Matching"
   ]
  },
  {
   "cell_type": "code",
   "execution_count": 170,
   "metadata": {},
   "outputs": [
    {
     "data": {
      "text/plain": [
       "array([ 7,  6,  9,  8, 10, 11,  1,  0,  3,  2,  4,  5])"
      ]
     },
     "execution_count": 170,
     "metadata": {},
     "output_type": "execute_result"
    }
   ],
   "source": [
    "def find_id_of_nearest(df1, key, key2 = None, df2 = None ):\n",
    "    if key2 is None:\n",
    "        key2 = key\n",
    "\n",
    "    if df2 is None:\n",
    "        df2 = df1\n",
    "\n",
    "    inds = np.zeros(len(df1), dtype=int)\n",
    "    for i in range(len(df1)):\n",
    "        norm_i = np.linalg.norm(np.asarray(df1[key].values - df2.iloc[i][key2].values, dtype=float), axis=1)\n",
    "        if df1 is df2:\n",
    "            norm_i[i] = None\n",
    "        inds[i] = np.nanargmin(norm_i)\n",
    "    return inds\n",
    "#     df1.iloc[i,]\n",
    "\n",
    "key = [\"Annotation Center X [mm] relative\",\"Annotation Center Y [mm] relative\"]\n",
    "inds = find_id_of_nearest(df1, key)\n",
    "inds\n",
    "\n",
    "# norm_i"
   ]
  },
  {
   "cell_type": "markdown",
   "metadata": {},
   "source": [
    "# See the difference"
   ]
  },
  {
   "cell_type": "code",
   "execution_count": 171,
   "metadata": {},
   "outputs": [
    {
     "name": "stdout",
     "output_type": "stream",
     "text": [
      "Annotation Center X [mm]\n",
      "Annotation Center Y [mm]\n",
      "Annotation Color\n",
      "Annotation Details\n",
      "Annotation ID\n",
      "Annotation Title\n",
      "Area\n",
      "Area unit\n",
      "Branch number\n",
      "Central Vein Dice\n",
      "Central Vein Jaccard\n",
      "Central vein area\n",
      "Datetime\n",
      "Dead ends number\n",
      "Experiment Datetime\n",
      "Experiment Title\n",
      "File Name\n",
      "File Path\n",
      "GLCM Correlation\n",
      "GLCM Correlation p10\n",
      "GLCM Correlation p25\n",
      "GLCM Correlation p50\n",
      "GLCM Correlation p75\n",
      "GLCM Correlation p90\n",
      "GLCM Correlation var\n",
      "GLCM Energy\n",
      "GLCM Energy p10\n",
      "GLCM Energy p25\n",
      "GLCM Energy p50\n",
      "GLCM Energy p75\n",
      "GLCM Energy p90\n",
      "GLCM Energy var\n",
      "GLCM Homogenity\n",
      "GLCM Homogenity p10\n",
      "GLCM Homogenity p25\n",
      "GLCM Homogenity p50\n",
      "GLCM Homogenity p75\n",
      "GLCM Homogenity p90\n",
      "GLCM Homogenity var\n",
      "Input;Automatic Lobulus Selection\n",
      "Input;Data Info\n",
      "Input;File Path\n",
      "Input;Whole Scan Margin\n",
      "Job ID\n",
      "Lobulus Border Dice\n",
      "Lobulus Border Jaccard\n",
      "Lobulus Boundary Compactness\n",
      "Lobulus Equivalent Diameter\n",
      "Lobulus Equivalent Surface\n",
      "Lobulus Perimeter\n",
      "Output Directory Path\n",
      "Output image size 0\n",
      "Output image size 1\n",
      "Output pixel size 0\n",
      "Output pixel size 1\n",
      "Output;Common Spreadsheet File\n",
      "Output;Directory Path\n",
      "Processing Time [s]\n",
      "Processing;Automatic Lobulus Selection\n",
      "Processing;Intensity Normalization\n",
      "Processing;Intensity Normalization;High Percentile Mapping\n",
      "Processing;Intensity Normalization;Input High Percentile\n",
      "Processing;Intensity Normalization;Input Low Percentile\n",
      "Processing;Intensity Normalization;Low Percentile Mapping\n",
      "Processing;Intensity Normalization;Run Intensity Normalization\n",
      "Processing;Intensity Normalization;Sigmoidal Slope\n",
      "Processing;Lobulus Segmentation\n",
      "Processing;Lobulus Segmentation;Annotation Margin\n",
      "Processing;Lobulus Segmentation;Border Segmentation;Iterations\n",
      "Processing;Lobulus Segmentation;Border Segmentation;Lambda1\n",
      "Processing;Lobulus Segmentation;Border Segmentation;Lambda2\n",
      "Processing;Lobulus Segmentation;Border Segmentation;Smoothing\n",
      "Processing;Lobulus Segmentation;Central Vein Segmentation;Ballon\n",
      "Processing;Lobulus Segmentation;Central Vein Segmentation;Iterations\n",
      "Processing;Lobulus Segmentation;Central Vein Segmentation;Smoothing\n",
      "Processing;Lobulus Segmentation;Central Vein Segmentation;Texture Analysis\n",
      "Processing;Lobulus Segmentation;Central Vein Segmentation;Texture Analysis;GLCM Levels\n",
      "Processing;Lobulus Segmentation;Central Vein Segmentation;Texture Analysis;Tile Size\n",
      "Processing;Lobulus Segmentation;Central Vein Segmentation;Texture Analysis;Tile Spacing\n",
      "Processing;Lobulus Segmentation;Central Vein Segmentation;Texture Analysis;Working Resolution\n",
      "Processing;Lobulus Segmentation;Central Vein Segmentation;Threshold\n",
      "Processing;Lobulus Segmentation;Manual Segmentation\n",
      "Processing;Lobulus Segmentation;Working Resolution\n",
      "Processing;Open output dir\n",
      "Processing;Preview Pixelsize\n",
      "Processing;Report Level\n",
      "Processing;Run Skeleton Analysis\n",
      "Processing;Run Slide Segmentation\n",
      "Processing;Run Texture Analysis\n",
      "Processing;Scan Segmentation\n",
      "Processing;Show\n",
      "Processing;Skeleton Analysis\n",
      "Processing;Skeleton Analysis;Inner Lobulus Margin\n",
      "Processing;Skeleton Analysis;Working Resolution\n",
      "Processing;Slide Segmentation\n",
      "Processing;Slide Segmentation;Annotation Radius\n",
      "Processing;Slide Segmentation;Clean Before Training\n",
      "Processing;Slide Segmentation;Lobulus Number\n",
      "Processing;Slide Segmentation;Run Training\n",
      "Processing;Slide Segmentation;Working Resolution\n",
      "Processing;Slide Segmentation;Working Tile Size\n",
      "Processing;Texture Analysis\n",
      "Processing;Texture Analysis;GLCM Levels\n",
      "Processing;Texture Analysis;Tile Size\n",
      "Processing;Texture Analysis;Tile Spacing\n",
      "Processing;Texture Analysis;Working Resolution\n",
      "Processing;Whole Scan Margin\n",
      "SNI area prediction\n",
      "Scaffan Version\n",
      "Scan Segmentation Classifier\n",
      "Scan Segmentation Empty Area [mm^2]\n",
      "Scan Segmentation Septum Area [mm^2]\n",
      "Scan Segmentation Sinusoidal Area [mm^2]\n",
      "Scan Segmentation Used Pixelsize [mm]\n",
      "Skeleton length\n",
      "Slice Empty Area [mm^2]\n",
      "Slice Septum Area [mm^2]\n",
      "Slice Sinusoidal Area [mm^2]\n",
      "numpy_version\n",
      "platform.node\n",
      "platform.processor\n",
      "platform.system\n",
      "profile unet cumulative get_region_image time [s]\n",
      "profile unet cumulative prediction time [s]\n",
      "scipy_version\n",
      "skimage_version\n",
      "slide segmentation method\n",
      "slide segmentation resolution\n",
      "Annotation ID mean\n",
      "Annotation Center X [mm] mean\n",
      "Annotation Center Y [mm] mean\n",
      "Annotation Center X [mm] relative\n",
      "Annotation Center Y [mm] relative\n"
     ]
    }
   ],
   "source": [
    "for i in df1.keys(): print(i)\n"
   ]
  },
  {
   "cell_type": "code",
   "execution_count": 172,
   "metadata": {},
   "outputs": [],
   "source": [
    "suffix_2 = \"_second\"\n",
    "\n",
    "df1[\"pair_index\"] = inds\n",
    "df2=df1[df1[\"File Name\"] == un[0]]\n",
    "df_compare = pd.merge(df2, df1, left_on=\"pair_index\", right_index=True, suffixes=(\"\", suffix_2))"
   ]
  },
  {
   "cell_type": "code",
   "execution_count": 173,
   "metadata": {},
   "outputs": [],
   "source": [
    "keys1 = [\"Area\", \"SNI area prediction\", \n",
    "     \"Lobulus Boundary Compactness\",\n",
    "      \"Lobulus Perimeter\",\n",
    "      \"Skeleton length\",\n",
    "        \"Branch number\",\n",
    "     ]\n",
    "\n",
    "keys2 = [key + suffix_2 for key in keys1]"
   ]
  },
  {
   "cell_type": "code",
   "execution_count": 174,
   "metadata": {},
   "outputs": [
    {
     "data": {
      "image/png": "[encoded data removed]",
      "text/plain": [
       "<Figure size 432x288 with 1 Axes>"
      ]
     },
     "metadata": {
      "needs_background": "light"
     },
     "output_type": "display_data"
    },
    {
     "data": {
      "image/png": "[encoded data removed]",
      "text/plain": [
       "<Figure size 432x288 with 1 Axes>"
      ]
     },
     "metadata": {
      "needs_background": "light"
     },
     "output_type": "display_data"
    },
    {
     "data": {
      "image/png": "[encoded data removed]",
      "text/plain": [
       "<Figure size 432x288 with 1 Axes>"
      ]
     },
     "metadata": {
      "needs_background": "light"
     },
     "output_type": "display_data"
    },
    {
     "data": {
      "image/png": "[encoded data removed]",
      "text/plain": [
       "<Figure size 432x288 with 1 Axes>"
      ]
     },
     "metadata": {
      "needs_background": "light"
     },
     "output_type": "display_data"
    },
    {
     "data": {
      "image/png": "[encoded data removed]",
      "text/plain": [
       "<Figure size 432x288 with 1 Axes>"
      ]
     },
     "metadata": {
      "needs_background": "light"
     },
     "output_type": "display_data"
    },
    {
     "data": {
      "image/png": "[encoded data removed]",
      "text/plain": [
       "<Figure size 432x288 with 1 Axes>"
      ]
     },
     "metadata": {
      "needs_background": "light"
     },
     "output_type": "display_data"
    }
   ],
   "source": [
    "for i in range(len(keys1)):\n",
    "    plt.figure()\n",
    "    sns.scatterplot(keys1[i], keys2[i], data=df_compare)\n",
    "# g = sns.pairplot(df_compare, x_vars=keys1, y_vars=keys2)"
   ]
  }
 ],
 "metadata": {
  "kernelspec": {
   "display_name": "Python 3",
   "language": "python",
   "name": "python3"
  },
  "language_info": {
   "codemirror_mode": {
    "name": "ipython",
    "version": 3
   },
   "file_extension": ".py",
   "mimetype": "text/x-python",
   "name": "python",
   "nbconvert_exporter": "python",
   "pygments_lexer": "ipython3",
   "version": "3.6.6"
  },
  "toc": {
   "base_numbering": 1,
   "nav_menu": {},
   "number_sections": true,
   "sideBar": true,
   "skip_h1_title": false,
   "title_cell": "Table of Contents",
   "title_sidebar": "Contents",
   "toc_cell": false,
   "toc_position": {},
   "toc_section_display": true,
   "toc_window_display": true
  }
 },
 "nbformat": 4,
 "nbformat_minor": 2
}
